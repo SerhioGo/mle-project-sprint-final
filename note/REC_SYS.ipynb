{
 "cells": [
  {
   "cell_type": "code",
   "execution_count": 1,
   "id": "0feded43",
   "metadata": {},
   "outputs": [
    {
     "data": {
      "text/html": [
       "\n",
       "            <div>\n",
       "                <ins><a href=\"https://ydata.ai/register\">Upgrade to ydata-sdk</a></ins>\n",
       "                <p>\n",
       "                    Improve your data and profiling with ydata-sdk, featuring data quality scoring, redundancy detection, outlier identification, text validation, and synthetic data generation.\n",
       "                </p>\n",
       "            </div>\n",
       "            "
      ],
      "text/plain": [
       "<IPython.core.display.HTML object>"
      ]
     },
     "metadata": {},
     "output_type": "display_data"
    }
   ],
   "source": [
    "import os\n",
    "import joblib\n",
    "\n",
    "import numpy as np\n",
    "import pandas as pd\n",
    "from datetime import datetime\n",
    "import ydata_profiling as yp\n",
    "\n",
    "import seaborn as sns\n",
    "import matplotlib.pyplot as plt\n",
    "\n",
    "import scipy\n",
    "import mlflow\n",
    "from implicit.als import AlternatingLeastSquares\n",
    "import psycopg2 as psycopg\n",
    "\n",
    "import pickle\n",
    "\n",
    "from catboost import CatBoostClassifier, Pool\n",
    "import sklearn.preprocessing\n",
    "from sklearn.preprocessing import MinMaxScaler\n",
    "\n",
    "from dotenv import load_dotenv\n",
    "import boto3\n",
    "\n",
    "import warnings\n",
    "warnings.filterwarnings(\"ignore\")"
   ]
  },
  {
   "cell_type": "code",
   "execution_count": 17,
   "id": "7edd1e23",
   "metadata": {},
   "outputs": [],
   "source": [
    "# Настройка\n",
    "%matplotlib inline"
   ]
  },
  {
   "cell_type": "markdown",
   "id": "1ed818c0",
   "metadata": {},
   "source": [
    "# Директория"
   ]
  },
  {
   "cell_type": "code",
   "execution_count": 25,
   "id": "7dd5e7f6",
   "metadata": {},
   "outputs": [],
   "source": [
    "RANDOM_STATE = 36\n",
    "# Пути и названия файлов заданы в виде параметров\n",
    "PATH_DATA = '../data'\n",
    "\n",
    "PATH_MODELS = '../models'\n",
    "MODEL_FILE = 'model.pkl'\n",
    "\n",
    "ASSETS_DIR = '../data/asserts'\n",
    "\n",
    "TRACKING_SERVER_HOST = \"127.0.0.1\"\n",
    "TRACKING_SERVER_PORT = 5000\n",
    "\n",
    "EXPERIMENT_NAME = 'project_final_one'\n",
    "REGISTRY_MODEL_NAME = \"ranking_model\""
   ]
  },
  {
   "cell_type": "code",
   "execution_count": 26,
   "id": "500e552e",
   "metadata": {},
   "outputs": [],
   "source": [
    "load_dotenv()\n",
    "\n",
    "os.environ[\"S3_ENDPOINT_URL\"] = \"https://storage.yandexcloud.net\" \n",
    "os.environ[\"S3_BUCKET_NAME\"] = os.getenv(\"S3_BUCKET_NAME\") \n",
    "os.environ[\"AWS_ACCESS_KEY_ID\"] = os.getenv(\"AWS_ACCESS_KEY_ID\") \n",
    "os.environ[\"AWS_SECRET_ACCESS_KEY\"] = os.getenv(\"AWS_SECRET_ACCESS_KEY\")"
   ]
  },
  {
   "cell_type": "markdown",
   "id": "540398f0",
   "metadata": {},
   "source": [
    "# Рекомендация"
   ]
  },
  {
   "cell_type": "markdown",
   "id": "64229ec1",
   "metadata": {},
   "source": [
    "## ТОП позиций"
   ]
  },
  {
   "cell_type": "code",
   "execution_count": 27,
   "id": "02fd2536",
   "metadata": {},
   "outputs": [],
   "source": [
    "# Загрузка данных\n",
    "events_train = pd.read_csv(f'{PATH_DATA}/events_train.csv', index_col=False)\n",
    "events_test = pd.read_csv(f'{PATH_DATA}/events_test.csv', index_col=False)"
   ]
  },
  {
   "cell_type": "code",
   "execution_count": 28,
   "id": "e1319cab",
   "metadata": {},
   "outputs": [],
   "source": [
    "# Посчитаем количество позиций, которые просматривают уникальные пользователи\n",
    "item_popularity = events_train \\\n",
    "    .groupby([\"item_id\"]).agg(users=(\"user_id\", \"nunique\"), avg_rating=(\"rating\", \"mean\")).reset_index()\n",
    "\n",
    "# Добавляем информацию о товарах\n",
    "top_items = item_popularity.sort_values('users', ascending=False).head(50)"
   ]
  },
  {
   "cell_type": "code",
   "execution_count": 29,
   "id": "c6497deb",
   "metadata": {},
   "outputs": [],
   "source": [
    "# Добавляем ранжирование\n",
    "top_items['rank'] = range(1, len(top_items) + 1)"
   ]
  },
  {
   "cell_type": "code",
   "execution_count": 30,
   "id": "a09de26d",
   "metadata": {},
   "outputs": [],
   "source": [
    "# Сохраним результат\n",
    "top_items.to_parquet(\"../recommendations/top_popular.parquet\", engine='pyarrow')"
   ]
  },
  {
   "cell_type": "code",
   "execution_count": 31,
   "id": "46bf1cc9",
   "metadata": {},
   "outputs": [
    {
     "name": "stdout",
     "output_type": "stream",
     "text": [
      "🏃 View run exp_top_popular at: http://127.0.0.1:5000/#/experiments/38/runs/ddbb68b1a18a4ccab4f3a34b62eb60e7\n",
      "🧪 View experiment at: http://127.0.0.1:5000/#/experiments/38\n"
     ]
    }
   ],
   "source": [
    "RUN_NAME = 'exp_top_popular'\n",
    "\n",
    "os.environ[\"MLFLOW_S3_ENDPOINT_URL\"] = \"https://storage.yandexcloud.net\" \n",
    "os.environ[\"AWS_ACCESS_KEY_ID\"] = os.getenv(\"AWS_ACCESS_KEY_ID\") \n",
    "os.environ[\"AWS_SECRET_ACCESS_KEY\"] = os.getenv(\"AWS_SECRET_ACCESS_KEY\")\n",
    "\n",
    "experiment_id = mlflow.get_experiment_by_name(EXPERIMENT_NAME).experiment_id\n",
    "\n",
    "parquet_file_path = \"top_popular.parquet\"\n",
    "top_items.to_parquet(parquet_file_path, engine='pyarrow')\n",
    "\n",
    "with mlflow.start_run(run_name=RUN_NAME, experiment_id=experiment_id) as run:\n",
    "    run_id = run.info.run_id\n",
    "\n",
    "    mlflow.log_artifact(parquet_file_path)"
   ]
  },
  {
   "cell_type": "markdown",
   "id": "4f04ff8c",
   "metadata": {},
   "source": [
    "## Персональные"
   ]
  },
  {
   "cell_type": "code",
   "execution_count": 32,
   "id": "480cec09",
   "metadata": {},
   "outputs": [],
   "source": [
    "# Загрузим данные\n",
    "events_train = pd.read_csv(f'{PATH_DATA}/events_train.csv', index_col=False)\n",
    "events_test = pd.read_csv(f'{PATH_DATA}/events_test.csv', index_col=False)\n",
    "items = pd.read_csv(f'{PATH_DATA}/items_new.csv', index_col=False)\n",
    "events = pd.read_csv(f'{PATH_DATA}/events_true.csv')\n",
    "\n",
    "item_encoder = joblib.load(f'{PATH_DATA}/item_encoder.pkl')\n",
    "user_encoder = joblib.load(f'{PATH_DATA}/user_encoder.pkl')"
   ]
  },
  {
   "cell_type": "code",
   "execution_count": 33,
   "id": "737e3d9e",
   "metadata": {},
   "outputs": [],
   "source": [
    "events_train['timestamp'] = pd.to_datetime(events_train['timestamp'])\n",
    "events_test['timestamp'] = pd.to_datetime(events_test['timestamp'])\n",
    "events['timestamp'] = pd.to_datetime(events['timestamp'])"
   ]
  },
  {
   "cell_type": "code",
   "execution_count": 34,
   "id": "f4775add",
   "metadata": {},
   "outputs": [
    {
     "data": {
      "text/plain": [
       "<Compressed Sparse Row sparse matrix of dtype 'int8'\n",
       "\twith 1324468 stored elements and shape (1236032, 417051)>"
      ]
     },
     "execution_count": 34,
     "metadata": {},
     "output_type": "execute_result"
    }
   ],
   "source": [
    "# Создаём sparse-матрицу формата CSR \n",
    "user_item_matrix_train = scipy.sparse.csr_matrix((\n",
    "    events_train[\"rating\"],\n",
    "    (events_train['user_id_enc'], events_train['item_id_enc'])),\n",
    "    dtype=np.int8) \n",
    "\n",
    "user_item_matrix_train"
   ]
  },
  {
   "cell_type": "code",
   "execution_count": 35,
   "id": "862f5544",
   "metadata": {},
   "outputs": [
    {
     "data": {
      "application/vnd.jupyter.widget-view+json": {
       "model_id": "aacf814b6af142c58b9b60f906c65753",
       "version_major": 2,
       "version_minor": 0
      },
      "text/plain": [
       "  0%|          | 0/500 [00:00<?, ?it/s]"
      ]
     },
     "metadata": {},
     "output_type": "display_data"
    }
   ],
   "source": [
    "# Создадим модель ALS\n",
    "als_model = AlternatingLeastSquares(factors=50, \n",
    "                                    iterations=500, \n",
    "                                    regularization=0.01, \n",
    "                                    random_state=RANDOM_STATE)\n",
    "\n",
    "# Обучим модель ALS\n",
    "als_model.fit(user_item_matrix_train)"
   ]
  },
  {
   "cell_type": "code",
   "execution_count": 36,
   "id": "d400581d",
   "metadata": {},
   "outputs": [],
   "source": [
    "# Получим энкодированные идентификаторы всех объектов, известных нам из events_train\n",
    "train_item_ids_enc = events_train['item_id_enc'].unique()\n",
    "\n",
    "max_similar_items = 5\n",
    "\n",
    "# Получаем списки похожих объектов, используя ранее полученную ALS-модель\n",
    "similar_items = als_model.similar_items(train_item_ids_enc, N=max_similar_items+1)\n",
    "\n",
    "# Преобразуем полученные списки в табличный формат\n",
    "sim_item_item_ids_enc = similar_items[0]\n",
    "sim_item_scores = similar_items[1]\n",
    "\n",
    "similar_items = pd.DataFrame({\n",
    "    \"item_id_enc\": train_item_ids_enc,\n",
    "    \"sim_item_id_enc\": sim_item_item_ids_enc.tolist(), \n",
    "    \"score\": [sim_scores[0:] for sim_scores in sim_item_scores]})"
   ]
  },
  {
   "cell_type": "code",
   "execution_count": 37,
   "id": "697dbbcc",
   "metadata": {},
   "outputs": [],
   "source": [
    "# Развернем полученные id похожих товаров\n",
    "similar_items = similar_items.explode(['sim_item_id_enc', 'score'])\n",
    "\n",
    "# Приводим типы данных\n",
    "similar_items[\"sim_item_id_enc\"] = similar_items[\"sim_item_id_enc\"].astype(\"int\")\n",
    "similar_items[\"score\"] = similar_items[\"score\"].astype(\"float\")\n",
    "\n",
    "# Получаем исходные идентификаторы\n",
    "item_id_map = events_train[['item_id_enc', 'item_id']].drop_duplicates().set_index('item_id_enc')['item_id'].to_dict()\n",
    "similar_items[\"item_id_init\"] = similar_items[\"item_id_enc\"].map(item_id_map)\n",
    "similar_items[\"item_id_sim\"] = similar_items[\"sim_item_id_enc\"].map(item_id_map)\n",
    "similar_items = similar_items.drop(columns=[\"item_id_enc\", \"sim_item_id_enc\"])\n",
    "\n",
    "# Убираем пары с одинаковыми объектами\n",
    "similar_items = similar_items.query(\"item_id_init != item_id_sim\")"
   ]
  },
  {
   "cell_type": "code",
   "execution_count": 38,
   "id": "b1cb95d4",
   "metadata": {},
   "outputs": [
    {
     "data": {
      "application/vnd.microsoft.datawrangler.viewer.v0+json": {
       "columns": [
        {
         "name": "index",
         "rawType": "int64",
         "type": "integer"
        },
        {
         "name": "score",
         "rawType": "float64",
         "type": "float"
        },
        {
         "name": "item_id_init",
         "rawType": "int64",
         "type": "integer"
        },
        {
         "name": "item_id_sim",
         "rawType": "int64",
         "type": "integer"
        }
       ],
       "ref": "280cf9ff-192c-4520-97af-36301a37b749",
       "rows": [
        [
         "0",
         "0.8742073774337769",
         "355908",
         "19855"
        ],
        [
         "0",
         "0.8649696707725525",
         "355908",
         "195941"
        ],
        [
         "0",
         "0.8575515747070312",
         "355908",
         "380824"
        ],
        [
         "0",
         "0.8552101254463196",
         "355908",
         "429319"
        ],
        [
         "0",
         "0.8485257029533386",
         "355908",
         "176827"
        ]
       ],
       "shape": {
        "columns": 3,
        "rows": 5
       }
      },
      "text/html": [
       "<div>\n",
       "<style scoped>\n",
       "    .dataframe tbody tr th:only-of-type {\n",
       "        vertical-align: middle;\n",
       "    }\n",
       "\n",
       "    .dataframe tbody tr th {\n",
       "        vertical-align: top;\n",
       "    }\n",
       "\n",
       "    .dataframe thead th {\n",
       "        text-align: right;\n",
       "    }\n",
       "</style>\n",
       "<table border=\"1\" class=\"dataframe\">\n",
       "  <thead>\n",
       "    <tr style=\"text-align: right;\">\n",
       "      <th></th>\n",
       "      <th>score</th>\n",
       "      <th>item_id_init</th>\n",
       "      <th>item_id_sim</th>\n",
       "    </tr>\n",
       "  </thead>\n",
       "  <tbody>\n",
       "    <tr>\n",
       "      <th>0</th>\n",
       "      <td>0.874207</td>\n",
       "      <td>355908</td>\n",
       "      <td>19855</td>\n",
       "    </tr>\n",
       "    <tr>\n",
       "      <th>0</th>\n",
       "      <td>0.864970</td>\n",
       "      <td>355908</td>\n",
       "      <td>195941</td>\n",
       "    </tr>\n",
       "    <tr>\n",
       "      <th>0</th>\n",
       "      <td>0.857552</td>\n",
       "      <td>355908</td>\n",
       "      <td>380824</td>\n",
       "    </tr>\n",
       "    <tr>\n",
       "      <th>0</th>\n",
       "      <td>0.855210</td>\n",
       "      <td>355908</td>\n",
       "      <td>429319</td>\n",
       "    </tr>\n",
       "    <tr>\n",
       "      <th>0</th>\n",
       "      <td>0.848526</td>\n",
       "      <td>355908</td>\n",
       "      <td>176827</td>\n",
       "    </tr>\n",
       "  </tbody>\n",
       "</table>\n",
       "</div>"
      ],
      "text/plain": [
       "      score  item_id_init  item_id_sim\n",
       "0  0.874207        355908        19855\n",
       "0  0.864970        355908       195941\n",
       "0  0.857552        355908       380824\n",
       "0  0.855210        355908       429319\n",
       "0  0.848526        355908       176827"
      ]
     },
     "execution_count": 38,
     "metadata": {},
     "output_type": "execute_result"
    }
   ],
   "source": [
    "similar_items[similar_items['item_id_init'] == 355908]"
   ]
  },
  {
   "cell_type": "code",
   "execution_count": 39,
   "id": "09bab6d2",
   "metadata": {},
   "outputs": [],
   "source": [
    "# Сохраним результат\n",
    "similar_items.to_parquet(\"../recommendations/similar_items.parquet\", engine='pyarrow')"
   ]
  },
  {
   "cell_type": "code",
   "execution_count": 3,
   "id": "283746b4",
   "metadata": {},
   "outputs": [],
   "source": [
    "similar_it = pd.read_parquet('../recommendations/similar_items.parquet')"
   ]
  },
  {
   "cell_type": "code",
   "execution_count": 4,
   "id": "2b04378e",
   "metadata": {},
   "outputs": [
    {
     "data": {
      "application/vnd.microsoft.datawrangler.viewer.v0+json": {
       "columns": [
        {
         "name": "index",
         "rawType": "int64",
         "type": "integer"
        },
        {
         "name": "score",
         "rawType": "float64",
         "type": "float"
        },
        {
         "name": "item_id_init",
         "rawType": "int64",
         "type": "integer"
        },
        {
         "name": "item_id_sim",
         "rawType": "int64",
         "type": "integer"
        }
       ],
       "ref": "57da75a3-beca-4657-b8be-0352ebc81038",
       "rows": [
        [
         "0",
         "0.8742073774337769",
         "355908",
         "19855"
        ],
        [
         "0",
         "0.8649696707725525",
         "355908",
         "195941"
        ],
        [
         "0",
         "0.8575515747070312",
         "355908",
         "380824"
        ],
        [
         "0",
         "0.8552101254463196",
         "355908",
         "429319"
        ],
        [
         "0",
         "0.8485257029533386",
         "355908",
         "176827"
        ],
        [
         "1",
         "0.9230282306671143",
         "248676",
         "407608"
        ],
        [
         "1",
         "0.9114902019500732",
         "248676",
         "38411"
        ],
        [
         "1",
         "0.9013011455535889",
         "248676",
         "301381"
        ],
        [
         "1",
         "0.8946638703346252",
         "248676",
         "358079"
        ],
        [
         "1",
         "0.8886699676513672",
         "248676",
         "243540"
        ],
        [
         "2",
         "0.8753727674484253",
         "253185",
         "16232"
        ],
        [
         "2",
         "0.8748527765274048",
         "253185",
         "51452"
        ],
        [
         "2",
         "0.870570957660675",
         "253185",
         "267882"
        ],
        [
         "2",
         "0.8665747046470642",
         "253185",
         "22165"
        ],
        [
         "2",
         "0.8655216097831726",
         "253185",
         "170168"
        ],
        [
         "3",
         "0.8926450610160828",
         "367447",
         "339275"
        ],
        [
         "3",
         "0.8906661868095398",
         "367447",
         "267462"
        ],
        [
         "3",
         "0.887451708316803",
         "367447",
         "234729"
        ],
        [
         "3",
         "0.886886715888977",
         "367447",
         "345799"
        ],
        [
         "3",
         "0.8862234950065613",
         "367447",
         "212283"
        ],
        [
         "4",
         "0.7566494345664978",
         "22556",
         "99637"
        ],
        [
         "4",
         "0.752494752407074",
         "22556",
         "385477"
        ],
        [
         "4",
         "0.7491974234580994",
         "22556",
         "123310"
        ],
        [
         "4",
         "0.7355635166168213",
         "22556",
         "2319"
        ],
        [
         "4",
         "0.7321926951408386",
         "22556",
         "248378"
        ],
        [
         "5",
         "0.8831119537353516",
         "443030",
         "168067"
        ],
        [
         "5",
         "0.8808832168579102",
         "443030",
         "315557"
        ],
        [
         "5",
         "0.8764087557792664",
         "443030",
         "14645"
        ],
        [
         "5",
         "0.8735209107398987",
         "443030",
         "251401"
        ],
        [
         "5",
         "0.8723707795143127",
         "443030",
         "160595"
        ],
        [
         "6",
         "0.7942625284194946",
         "439202",
         "55272"
        ],
        [
         "6",
         "0.7840315103530884",
         "439202",
         "175141"
        ],
        [
         "6",
         "0.777840256690979",
         "439202",
         "65854"
        ],
        [
         "6",
         "0.7732865810394287",
         "439202",
         "466064"
        ],
        [
         "6",
         "0.7711344361305237",
         "439202",
         "276447"
        ],
        [
         "7",
         "0.8830620050430298",
         "428805",
         "116508"
        ],
        [
         "7",
         "0.8744768500328064",
         "428805",
         "176570"
        ],
        [
         "7",
         "0.8717326521873474",
         "428805",
         "60976"
        ],
        [
         "7",
         "0.8698678612709045",
         "428805",
         "380401"
        ],
        [
         "7",
         "0.8694300651550293",
         "428805",
         "340346"
        ],
        [
         "8",
         "0.8934003114700317",
         "82389",
         "6654"
        ],
        [
         "8",
         "0.8858588933944702",
         "82389",
         "164852"
        ],
        [
         "8",
         "0.8844955563545227",
         "82389",
         "199866"
        ],
        [
         "8",
         "0.8813858032226562",
         "82389",
         "75889"
        ],
        [
         "8",
         "0.8660773038864136",
         "82389",
         "200357"
        ],
        [
         "9",
         "0.8495133519172668",
         "10572",
         "120313"
        ],
        [
         "9",
         "0.8353854417800903",
         "10572",
         "69880"
        ],
        [
         "9",
         "0.8323160409927368",
         "10572",
         "439740"
        ],
        [
         "9",
         "0.829329252243042",
         "10572",
         "24250"
        ],
        [
         "9",
         "0.8126445412635803",
         "10572",
         "63144"
        ]
       ],
       "shape": {
        "columns": 3,
        "rows": 798710
       }
      },
      "text/html": [
       "<div>\n",
       "<style scoped>\n",
       "    .dataframe tbody tr th:only-of-type {\n",
       "        vertical-align: middle;\n",
       "    }\n",
       "\n",
       "    .dataframe tbody tr th {\n",
       "        vertical-align: top;\n",
       "    }\n",
       "\n",
       "    .dataframe thead th {\n",
       "        text-align: right;\n",
       "    }\n",
       "</style>\n",
       "<table border=\"1\" class=\"dataframe\">\n",
       "  <thead>\n",
       "    <tr style=\"text-align: right;\">\n",
       "      <th></th>\n",
       "      <th>score</th>\n",
       "      <th>item_id_init</th>\n",
       "      <th>item_id_sim</th>\n",
       "    </tr>\n",
       "  </thead>\n",
       "  <tbody>\n",
       "    <tr>\n",
       "      <th>0</th>\n",
       "      <td>0.874207</td>\n",
       "      <td>355908</td>\n",
       "      <td>19855</td>\n",
       "    </tr>\n",
       "    <tr>\n",
       "      <th>0</th>\n",
       "      <td>0.864970</td>\n",
       "      <td>355908</td>\n",
       "      <td>195941</td>\n",
       "    </tr>\n",
       "    <tr>\n",
       "      <th>0</th>\n",
       "      <td>0.857552</td>\n",
       "      <td>355908</td>\n",
       "      <td>380824</td>\n",
       "    </tr>\n",
       "    <tr>\n",
       "      <th>0</th>\n",
       "      <td>0.855210</td>\n",
       "      <td>355908</td>\n",
       "      <td>429319</td>\n",
       "    </tr>\n",
       "    <tr>\n",
       "      <th>0</th>\n",
       "      <td>0.848526</td>\n",
       "      <td>355908</td>\n",
       "      <td>176827</td>\n",
       "    </tr>\n",
       "    <tr>\n",
       "      <th>...</th>\n",
       "      <td>...</td>\n",
       "      <td>...</td>\n",
       "      <td>...</td>\n",
       "    </tr>\n",
       "    <tr>\n",
       "      <th>159741</th>\n",
       "      <td>0.886956</td>\n",
       "      <td>236179</td>\n",
       "      <td>237440</td>\n",
       "    </tr>\n",
       "    <tr>\n",
       "      <th>159741</th>\n",
       "      <td>0.885256</td>\n",
       "      <td>236179</td>\n",
       "      <td>73340</td>\n",
       "    </tr>\n",
       "    <tr>\n",
       "      <th>159741</th>\n",
       "      <td>0.872150</td>\n",
       "      <td>236179</td>\n",
       "      <td>105692</td>\n",
       "    </tr>\n",
       "    <tr>\n",
       "      <th>159741</th>\n",
       "      <td>0.869748</td>\n",
       "      <td>236179</td>\n",
       "      <td>344947</td>\n",
       "    </tr>\n",
       "    <tr>\n",
       "      <th>159741</th>\n",
       "      <td>0.868025</td>\n",
       "      <td>236179</td>\n",
       "      <td>435342</td>\n",
       "    </tr>\n",
       "  </tbody>\n",
       "</table>\n",
       "<p>798710 rows × 3 columns</p>\n",
       "</div>"
      ],
      "text/plain": [
       "           score  item_id_init  item_id_sim\n",
       "0       0.874207        355908        19855\n",
       "0       0.864970        355908       195941\n",
       "0       0.857552        355908       380824\n",
       "0       0.855210        355908       429319\n",
       "0       0.848526        355908       176827\n",
       "...          ...           ...          ...\n",
       "159741  0.886956        236179       237440\n",
       "159741  0.885256        236179        73340\n",
       "159741  0.872150        236179       105692\n",
       "159741  0.869748        236179       344947\n",
       "159741  0.868025        236179       435342\n",
       "\n",
       "[798710 rows x 3 columns]"
      ]
     },
     "execution_count": 4,
     "metadata": {},
     "output_type": "execute_result"
    }
   ],
   "source": [
    "similar_it"
   ]
  },
  {
   "cell_type": "code",
   "execution_count": 40,
   "id": "13e4d74e",
   "metadata": {},
   "outputs": [
    {
     "name": "stdout",
     "output_type": "stream",
     "text": [
      "🏃 View run exp_similar_items at: http://127.0.0.1:5000/#/experiments/38/runs/37be683619ad4bb1860ec34a4280c21c\n",
      "🧪 View experiment at: http://127.0.0.1:5000/#/experiments/38\n"
     ]
    }
   ],
   "source": [
    "RUN_NAME = 'exp_similar_items'\n",
    "\n",
    "os.environ[\"MLFLOW_S3_ENDPOINT_URL\"] = \"https://storage.yandexcloud.net\" \n",
    "os.environ[\"AWS_ACCESS_KEY_ID\"] = os.getenv(\"AWS_ACCESS_KEY_ID\") \n",
    "os.environ[\"AWS_SECRET_ACCESS_KEY\"] = os.getenv(\"AWS_SECRET_ACCESS_KEY\")\n",
    "\n",
    "mlflow.set_tracking_uri(f\"http://{TRACKING_SERVER_HOST}:{TRACKING_SERVER_PORT}\")\n",
    "mlflow.set_registry_uri(f\"http://{TRACKING_SERVER_HOST}:{TRACKING_SERVER_PORT}\")\n",
    "\n",
    "experiment_id = mlflow.get_experiment_by_name(EXPERIMENT_NAME).experiment_id\n",
    "\n",
    "parquet_file_path = \"similar_items.parquet\"\n",
    "similar_items.to_parquet(parquet_file_path, engine='pyarrow')\n",
    "\n",
    "with mlflow.start_run(run_name=RUN_NAME, experiment_id=experiment_id) as run:\n",
    "    run_id = run.info.run_id\n",
    "\n",
    "    mlflow.log_artifact(parquet_file_path)"
   ]
  },
  {
   "cell_type": "markdown",
   "id": "c02de57f",
   "metadata": {},
   "source": [
    "## Двухстадийный подход"
   ]
  },
  {
   "cell_type": "code",
   "execution_count": 41,
   "id": "4213e316",
   "metadata": {},
   "outputs": [
    {
     "name": "stdout",
     "output_type": "stream",
     "text": [
      "2015-09-13 02:59:00\n"
     ]
    }
   ],
   "source": [
    "# Вычтем из последней даты несколько дней (5)\n",
    "test_days = events_test[\"timestamp\"].max() - pd.Timedelta(days=5)\n",
    "\n",
    "print(test_days)"
   ]
  },
  {
   "cell_type": "code",
   "execution_count": 42,
   "id": "a701ce6a",
   "metadata": {},
   "outputs": [
    {
     "name": "stdout",
     "output_type": "stream",
     "text": [
      "Тестовый датасет: (70582, 16)\n",
      "Датасет с взаимодействиями за пять дней: (701910, 16)\n"
     ]
    }
   ],
   "source": [
    "# Задаём точку разбиения\n",
    "split_date_for_labels = test_days\n",
    "\n",
    "# Разделим данные\n",
    "split_date_for_labels_idx = events_test[\"timestamp\"] < split_date_for_labels\n",
    "events_labels = events_test[split_date_for_labels_idx].copy()\n",
    "events_test_2 = events_test[~split_date_for_labels_idx].copy()\n",
    "\n",
    "# Проверим результат\n",
    "print(f'Тестовый датасет: {events_test_2.shape}')\n",
    "print(f'Датасет с взаимодействиями за пять дней: {events_labels.shape}')"
   ]
  },
  {
   "cell_type": "code",
   "execution_count": 43,
   "id": "3cc84015",
   "metadata": {},
   "outputs": [
    {
     "data": {
      "application/vnd.microsoft.datawrangler.viewer.v0+json": {
       "columns": [
        {
         "name": "index",
         "rawType": "int64",
         "type": "integer"
        },
        {
         "name": "timestamp",
         "rawType": "datetime64[ns]",
         "type": "datetime"
        },
        {
         "name": "user_id",
         "rawType": "int64",
         "type": "integer"
        },
        {
         "name": "item_id",
         "rawType": "int64",
         "type": "integer"
        },
        {
         "name": "available",
         "rawType": "int64",
         "type": "integer"
        },
        {
         "name": "categoryid",
         "rawType": "int64",
         "type": "integer"
        },
        {
         "name": "parentid",
         "rawType": "float64",
         "type": "float"
        },
        {
         "name": "istransaction",
         "rawType": "int64",
         "type": "integer"
        },
        {
         "name": "day_of_week",
         "rawType": "int64",
         "type": "integer"
        },
        {
         "name": "day",
         "rawType": "int64",
         "type": "integer"
        },
        {
         "name": "hour",
         "rawType": "int64",
         "type": "integer"
        },
        {
         "name": "rating",
         "rawType": "float64",
         "type": "float"
        },
        {
         "name": "target",
         "rawType": "int64",
         "type": "integer"
        },
        {
         "name": "user_id_enc",
         "rawType": "int64",
         "type": "integer"
        },
        {
         "name": "item_id_enc",
         "rawType": "int64",
         "type": "integer"
        },
        {
         "name": "categoryid_enc",
         "rawType": "int64",
         "type": "integer"
        },
        {
         "name": "parentid_enc",
         "rawType": "int64",
         "type": "integer"
        }
       ],
       "ref": "5f0451a0-2a55-49d1-8865-eb002eedbc57",
       "rows": [
        [
         "0",
         "2015-08-02 05:47:00",
         "1190029",
         "338463",
         "0",
         "1483",
         "561.0",
         "0",
         "6",
         "2",
         "5",
         "0.0029316915860451",
         "0",
         "1044942",
         "302447",
         "961",
         "87"
        ],
        [
         "1",
         "2015-08-02 05:34:00",
         "1111168",
         "456909",
         "0",
         "64",
         "206.0",
         "0",
         "6",
         "2",
         "5",
         "0.0126062738199941",
         "0",
         "975655",
         "408154",
         "42",
         "38"
        ],
        [
         "2",
         "2015-08-02 05:54:00",
         "505655",
         "409804",
         "1",
         "1191",
         "61.0",
         "0",
         "6",
         "2",
         "5",
         "0.2442099091175608",
         "0",
         "444061",
         "366148",
         "762",
         "13"
        ],
        [
         "3",
         "2015-08-02 05:53:00",
         "581285",
         "133215",
         "0",
         "973",
         "20.0",
         "0",
         "6",
         "2",
         "5",
         "0.0023453532688361",
         "0",
         "510479",
         "119095",
         "626",
         "5"
        ],
        [
         "4",
         "2015-08-02 05:47:00",
         "830739",
         "82281",
         "0",
         "860",
         "1515.0",
         "0",
         "6",
         "2",
         "5",
         "0.0064497214892993",
         "0",
         "729273",
         "73539",
         "560",
         "242"
        ]
       ],
       "shape": {
        "columns": 16,
        "rows": 5
       }
      },
      "text/html": [
       "<div>\n",
       "<style scoped>\n",
       "    .dataframe tbody tr th:only-of-type {\n",
       "        vertical-align: middle;\n",
       "    }\n",
       "\n",
       "    .dataframe tbody tr th {\n",
       "        vertical-align: top;\n",
       "    }\n",
       "\n",
       "    .dataframe thead th {\n",
       "        text-align: right;\n",
       "    }\n",
       "</style>\n",
       "<table border=\"1\" class=\"dataframe\">\n",
       "  <thead>\n",
       "    <tr style=\"text-align: right;\">\n",
       "      <th></th>\n",
       "      <th>timestamp</th>\n",
       "      <th>user_id</th>\n",
       "      <th>item_id</th>\n",
       "      <th>available</th>\n",
       "      <th>categoryid</th>\n",
       "      <th>parentid</th>\n",
       "      <th>istransaction</th>\n",
       "      <th>day_of_week</th>\n",
       "      <th>day</th>\n",
       "      <th>hour</th>\n",
       "      <th>rating</th>\n",
       "      <th>target</th>\n",
       "      <th>user_id_enc</th>\n",
       "      <th>item_id_enc</th>\n",
       "      <th>categoryid_enc</th>\n",
       "      <th>parentid_enc</th>\n",
       "    </tr>\n",
       "  </thead>\n",
       "  <tbody>\n",
       "    <tr>\n",
       "      <th>0</th>\n",
       "      <td>2015-08-02 05:47:00</td>\n",
       "      <td>1190029</td>\n",
       "      <td>338463</td>\n",
       "      <td>0</td>\n",
       "      <td>1483</td>\n",
       "      <td>561.0</td>\n",
       "      <td>0</td>\n",
       "      <td>6</td>\n",
       "      <td>2</td>\n",
       "      <td>5</td>\n",
       "      <td>0.002932</td>\n",
       "      <td>0</td>\n",
       "      <td>1044942</td>\n",
       "      <td>302447</td>\n",
       "      <td>961</td>\n",
       "      <td>87</td>\n",
       "    </tr>\n",
       "    <tr>\n",
       "      <th>1</th>\n",
       "      <td>2015-08-02 05:34:00</td>\n",
       "      <td>1111168</td>\n",
       "      <td>456909</td>\n",
       "      <td>0</td>\n",
       "      <td>64</td>\n",
       "      <td>206.0</td>\n",
       "      <td>0</td>\n",
       "      <td>6</td>\n",
       "      <td>2</td>\n",
       "      <td>5</td>\n",
       "      <td>0.012606</td>\n",
       "      <td>0</td>\n",
       "      <td>975655</td>\n",
       "      <td>408154</td>\n",
       "      <td>42</td>\n",
       "      <td>38</td>\n",
       "    </tr>\n",
       "    <tr>\n",
       "      <th>2</th>\n",
       "      <td>2015-08-02 05:54:00</td>\n",
       "      <td>505655</td>\n",
       "      <td>409804</td>\n",
       "      <td>1</td>\n",
       "      <td>1191</td>\n",
       "      <td>61.0</td>\n",
       "      <td>0</td>\n",
       "      <td>6</td>\n",
       "      <td>2</td>\n",
       "      <td>5</td>\n",
       "      <td>0.244210</td>\n",
       "      <td>0</td>\n",
       "      <td>444061</td>\n",
       "      <td>366148</td>\n",
       "      <td>762</td>\n",
       "      <td>13</td>\n",
       "    </tr>\n",
       "    <tr>\n",
       "      <th>3</th>\n",
       "      <td>2015-08-02 05:53:00</td>\n",
       "      <td>581285</td>\n",
       "      <td>133215</td>\n",
       "      <td>0</td>\n",
       "      <td>973</td>\n",
       "      <td>20.0</td>\n",
       "      <td>0</td>\n",
       "      <td>6</td>\n",
       "      <td>2</td>\n",
       "      <td>5</td>\n",
       "      <td>0.002345</td>\n",
       "      <td>0</td>\n",
       "      <td>510479</td>\n",
       "      <td>119095</td>\n",
       "      <td>626</td>\n",
       "      <td>5</td>\n",
       "    </tr>\n",
       "    <tr>\n",
       "      <th>4</th>\n",
       "      <td>2015-08-02 05:47:00</td>\n",
       "      <td>830739</td>\n",
       "      <td>82281</td>\n",
       "      <td>0</td>\n",
       "      <td>860</td>\n",
       "      <td>1515.0</td>\n",
       "      <td>0</td>\n",
       "      <td>6</td>\n",
       "      <td>2</td>\n",
       "      <td>5</td>\n",
       "      <td>0.006450</td>\n",
       "      <td>0</td>\n",
       "      <td>729273</td>\n",
       "      <td>73539</td>\n",
       "      <td>560</td>\n",
       "      <td>242</td>\n",
       "    </tr>\n",
       "  </tbody>\n",
       "</table>\n",
       "</div>"
      ],
      "text/plain": [
       "            timestamp  user_id  item_id  available  categoryid  parentid  \\\n",
       "0 2015-08-02 05:47:00  1190029   338463          0        1483     561.0   \n",
       "1 2015-08-02 05:34:00  1111168   456909          0          64     206.0   \n",
       "2 2015-08-02 05:54:00   505655   409804          1        1191      61.0   \n",
       "3 2015-08-02 05:53:00   581285   133215          0         973      20.0   \n",
       "4 2015-08-02 05:47:00   830739    82281          0         860    1515.0   \n",
       "\n",
       "   istransaction  day_of_week  day  hour    rating  target  user_id_enc  \\\n",
       "0              0            6    2     5  0.002932       0      1044942   \n",
       "1              0            6    2     5  0.012606       0       975655   \n",
       "2              0            6    2     5  0.244210       0       444061   \n",
       "3              0            6    2     5  0.002345       0       510479   \n",
       "4              0            6    2     5  0.006450       0       729273   \n",
       "\n",
       "   item_id_enc  categoryid_enc  parentid_enc  \n",
       "0       302447             961            87  \n",
       "1       408154              42            38  \n",
       "2       366148             762            13  \n",
       "3       119095             626             5  \n",
       "4        73539             560           242  "
      ]
     },
     "execution_count": 43,
     "metadata": {},
     "output_type": "execute_result"
    }
   ],
   "source": [
    "# Посмотрим на датасет\n",
    "events_labels.head()"
   ]
  },
  {
   "cell_type": "code",
   "execution_count": 44,
   "id": "45a73da4",
   "metadata": {},
   "outputs": [
    {
     "data": {
      "application/vnd.microsoft.datawrangler.viewer.v0+json": {
       "columns": [
        {
         "name": "target",
         "rawType": "int64",
         "type": "integer"
        },
        {
         "name": "count",
         "rawType": "int64",
         "type": "integer"
        }
       ],
       "ref": "db82ea62-3283-4227-a0a3-70274cc1a5f5",
       "rows": [
        [
         "0",
         "681873"
        ],
        [
         "1",
         "20037"
        ]
       ],
       "shape": {
        "columns": 1,
        "rows": 2
       }
      },
      "text/plain": [
       "target\n",
       "0    681873\n",
       "1     20037\n",
       "Name: count, dtype: int64"
      ]
     },
     "execution_count": 44,
     "metadata": {},
     "output_type": "execute_result"
    }
   ],
   "source": [
    "# Проверим баланс классов\n",
    "events_labels.target.value_counts()"
   ]
  },
  {
   "cell_type": "code",
   "execution_count": 45,
   "id": "8b438a5c",
   "metadata": {},
   "outputs": [
    {
     "data": {
      "application/vnd.microsoft.datawrangler.viewer.v0+json": {
       "columns": [
        {
         "name": "target",
         "rawType": "int64",
         "type": "integer"
        },
        {
         "name": "count",
         "rawType": "int64",
         "type": "integer"
        }
       ],
       "ref": "e2746c13-3267-49e7-abaf-edf9b5a0dfcc",
       "rows": [
        [
         "0",
         "68573"
        ],
        [
         "1",
         "2009"
        ]
       ],
       "shape": {
        "columns": 1,
        "rows": 2
       }
      },
      "text/plain": [
       "target\n",
       "0    68573\n",
       "1     2009\n",
       "Name: count, dtype: int64"
      ]
     },
     "execution_count": 45,
     "metadata": {},
     "output_type": "execute_result"
    }
   ],
   "source": [
    "# Проверим баланс классов\n",
    "events_test_2.target.value_counts()"
   ]
  },
  {
   "cell_type": "code",
   "execution_count": 46,
   "id": "035bbad7",
   "metadata": {},
   "outputs": [],
   "source": [
    "# В кандидатах оставляем только тех пользователей, у которых есть хотя бы один положительный таргет\n",
    "candidates_to_sample = events_labels.groupby(\"user_id\").filter(lambda x: x[\"target\"].sum() > 0)\n",
    "\n",
    "# для каждого пользователя оставляем 1 негативный пример\n",
    "negatives_per_user = 1\n",
    "candidates_for_train = pd.concat([\n",
    "    candidates_to_sample.query(\"target == 1\"),\n",
    "    candidates_to_sample.query(\"target == 0\") \\\n",
    "        .groupby(\"user_id\") \\\n",
    "        .apply(lambda x: x.sample(negatives_per_user, random_state=RANDOM_STATE))\n",
    "    ]).reset_index(drop=True)"
   ]
  },
  {
   "cell_type": "code",
   "execution_count": 47,
   "id": "406f2bb8",
   "metadata": {},
   "outputs": [
    {
     "data": {
      "application/vnd.microsoft.datawrangler.viewer.v0+json": {
       "columns": [
        {
         "name": "target",
         "rawType": "int64",
         "type": "integer"
        },
        {
         "name": "count",
         "rawType": "int64",
         "type": "integer"
        }
       ],
       "ref": "adab6e28-dc6c-4dee-86ef-ad974aec7065",
       "rows": [
        [
         "1",
         "20037"
        ],
        [
         "0",
         "10181"
        ]
       ],
       "shape": {
        "columns": 1,
        "rows": 2
       }
      },
      "text/plain": [
       "target\n",
       "1    20037\n",
       "0    10181\n",
       "Name: count, dtype: int64"
      ]
     },
     "execution_count": 47,
     "metadata": {},
     "output_type": "execute_result"
    }
   ],
   "source": [
    "# Проверим сколько данных для положительного таргета\n",
    "candidates_for_train.target.value_counts()"
   ]
  },
  {
   "cell_type": "code",
   "execution_count": 48,
   "id": "4f41f18d",
   "metadata": {},
   "outputs": [],
   "source": [
    "# Зададим функцию, для расчета пользовательских признаков\n",
    "def get_user_features(events):\n",
    "    user_features = events.groupby(\"user_id\").agg(\n",
    "        item_id_week=(\"timestamp\", lambda x: (x.max()-x.min()).days/7),\n",
    "        item_viewed=(\"item_id\", \"count\"),\n",
    "        rating_avg=(\"rating\", \"mean\"),\n",
    "        rating_std=(\"rating\", \"std\"))\n",
    "    \n",
    "    return user_features"
   ]
  },
  {
   "cell_type": "code",
   "execution_count": 49,
   "id": "ece08203",
   "metadata": {},
   "outputs": [],
   "source": [
    "# Получим новые признаки\n",
    "user_features_for_train = get_user_features(events_train)\n",
    "candidates_for_train = candidates_for_train.merge(user_features_for_train, on=\"user_id\", how=\"left\").fillna(0)"
   ]
  },
  {
   "cell_type": "code",
   "execution_count": 50,
   "id": "42c9a036",
   "metadata": {},
   "outputs": [
    {
     "data": {
      "application/vnd.microsoft.datawrangler.viewer.v0+json": {
       "columns": [
        {
         "name": "index",
         "rawType": "int64",
         "type": "integer"
        },
        {
         "name": "timestamp",
         "rawType": "datetime64[ns]",
         "type": "datetime"
        },
        {
         "name": "user_id",
         "rawType": "int64",
         "type": "integer"
        },
        {
         "name": "item_id",
         "rawType": "int64",
         "type": "integer"
        },
        {
         "name": "available",
         "rawType": "int64",
         "type": "integer"
        },
        {
         "name": "categoryid",
         "rawType": "int64",
         "type": "integer"
        },
        {
         "name": "parentid",
         "rawType": "float64",
         "type": "float"
        },
        {
         "name": "istransaction",
         "rawType": "int64",
         "type": "integer"
        },
        {
         "name": "day_of_week",
         "rawType": "int64",
         "type": "integer"
        },
        {
         "name": "day",
         "rawType": "int64",
         "type": "integer"
        },
        {
         "name": "hour",
         "rawType": "int64",
         "type": "integer"
        },
        {
         "name": "rating",
         "rawType": "float64",
         "type": "float"
        },
        {
         "name": "target",
         "rawType": "int64",
         "type": "integer"
        },
        {
         "name": "user_id_enc",
         "rawType": "int64",
         "type": "integer"
        },
        {
         "name": "item_id_enc",
         "rawType": "int64",
         "type": "integer"
        },
        {
         "name": "categoryid_enc",
         "rawType": "int64",
         "type": "integer"
        },
        {
         "name": "parentid_enc",
         "rawType": "int64",
         "type": "integer"
        },
        {
         "name": "item_id_week",
         "rawType": "float64",
         "type": "float"
        },
        {
         "name": "item_viewed",
         "rawType": "float64",
         "type": "float"
        },
        {
         "name": "rating_avg",
         "rawType": "float64",
         "type": "float"
        },
        {
         "name": "rating_std",
         "rawType": "float64",
         "type": "float"
        }
       ],
       "ref": "f177dbc8-0e80-495c-8f9a-6d8a3867ca21",
       "rows": [
        [
         "0",
         "2015-08-02 05:43:00",
         "1027570",
         "7943",
         "1",
         "398",
         "1323.0",
         "0",
         "6",
         "2",
         "5",
         "0.436235708003518",
         "1",
         "902277",
         "7107",
         "259",
         "209",
         "0.0",
         "0.0",
         "0.0",
         "0.0"
        ],
        [
         "1",
         "2015-08-01 19:09:00",
         "395552",
         "75102",
         "1",
         "1135",
         "1329.0",
         "0",
         "5",
         "1",
         "19",
         "0.0061565523306948",
         "1",
         "347325",
         "67134",
         "732",
         "212",
         "0.0",
         "0.0",
         "0.0",
         "0.0"
        ],
        [
         "2",
         "2015-08-01 18:31:00",
         "1396315",
         "165650",
         "1",
         "624",
         "871.0",
         "0",
         "5",
         "1",
         "18",
         "0.0029316915860451",
         "1",
         "1226101",
         "148096",
         "411",
         "136",
         "0.0",
         "0.0",
         "0.0",
         "0.0"
        ],
        [
         "3",
         "2015-08-01 18:14:00",
         "548871",
         "339531",
         "1",
         "656",
         "1125.0",
         "0",
         "5",
         "1",
         "18",
         "0.0407505130460275",
         "1",
         "481995",
         "303405",
         "430",
         "179",
         "0.0",
         "0.0",
         "0.0",
         "0.0"
        ],
        [
         "4",
         "2015-08-01 18:41:00",
         "1119187",
         "311484",
         "0",
         "1117",
         "14.0",
         "0",
         "5",
         "1",
         "18",
         "0.0310759308120785",
         "1",
         "982697",
         "278369",
         "719",
         "3",
         "0.0",
         "0.0",
         "0.0",
         "0.0"
        ]
       ],
       "shape": {
        "columns": 20,
        "rows": 5
       }
      },
      "text/html": [
       "<div>\n",
       "<style scoped>\n",
       "    .dataframe tbody tr th:only-of-type {\n",
       "        vertical-align: middle;\n",
       "    }\n",
       "\n",
       "    .dataframe tbody tr th {\n",
       "        vertical-align: top;\n",
       "    }\n",
       "\n",
       "    .dataframe thead th {\n",
       "        text-align: right;\n",
       "    }\n",
       "</style>\n",
       "<table border=\"1\" class=\"dataframe\">\n",
       "  <thead>\n",
       "    <tr style=\"text-align: right;\">\n",
       "      <th></th>\n",
       "      <th>timestamp</th>\n",
       "      <th>user_id</th>\n",
       "      <th>item_id</th>\n",
       "      <th>available</th>\n",
       "      <th>categoryid</th>\n",
       "      <th>parentid</th>\n",
       "      <th>istransaction</th>\n",
       "      <th>day_of_week</th>\n",
       "      <th>day</th>\n",
       "      <th>hour</th>\n",
       "      <th>rating</th>\n",
       "      <th>target</th>\n",
       "      <th>user_id_enc</th>\n",
       "      <th>item_id_enc</th>\n",
       "      <th>categoryid_enc</th>\n",
       "      <th>parentid_enc</th>\n",
       "      <th>item_id_week</th>\n",
       "      <th>item_viewed</th>\n",
       "      <th>rating_avg</th>\n",
       "      <th>rating_std</th>\n",
       "    </tr>\n",
       "  </thead>\n",
       "  <tbody>\n",
       "    <tr>\n",
       "      <th>0</th>\n",
       "      <td>2015-08-02 05:43:00</td>\n",
       "      <td>1027570</td>\n",
       "      <td>7943</td>\n",
       "      <td>1</td>\n",
       "      <td>398</td>\n",
       "      <td>1323.0</td>\n",
       "      <td>0</td>\n",
       "      <td>6</td>\n",
       "      <td>2</td>\n",
       "      <td>5</td>\n",
       "      <td>0.436236</td>\n",
       "      <td>1</td>\n",
       "      <td>902277</td>\n",
       "      <td>7107</td>\n",
       "      <td>259</td>\n",
       "      <td>209</td>\n",
       "      <td>0.0</td>\n",
       "      <td>0.0</td>\n",
       "      <td>0.0</td>\n",
       "      <td>0.0</td>\n",
       "    </tr>\n",
       "    <tr>\n",
       "      <th>1</th>\n",
       "      <td>2015-08-01 19:09:00</td>\n",
       "      <td>395552</td>\n",
       "      <td>75102</td>\n",
       "      <td>1</td>\n",
       "      <td>1135</td>\n",
       "      <td>1329.0</td>\n",
       "      <td>0</td>\n",
       "      <td>5</td>\n",
       "      <td>1</td>\n",
       "      <td>19</td>\n",
       "      <td>0.006157</td>\n",
       "      <td>1</td>\n",
       "      <td>347325</td>\n",
       "      <td>67134</td>\n",
       "      <td>732</td>\n",
       "      <td>212</td>\n",
       "      <td>0.0</td>\n",
       "      <td>0.0</td>\n",
       "      <td>0.0</td>\n",
       "      <td>0.0</td>\n",
       "    </tr>\n",
       "    <tr>\n",
       "      <th>2</th>\n",
       "      <td>2015-08-01 18:31:00</td>\n",
       "      <td>1396315</td>\n",
       "      <td>165650</td>\n",
       "      <td>1</td>\n",
       "      <td>624</td>\n",
       "      <td>871.0</td>\n",
       "      <td>0</td>\n",
       "      <td>5</td>\n",
       "      <td>1</td>\n",
       "      <td>18</td>\n",
       "      <td>0.002932</td>\n",
       "      <td>1</td>\n",
       "      <td>1226101</td>\n",
       "      <td>148096</td>\n",
       "      <td>411</td>\n",
       "      <td>136</td>\n",
       "      <td>0.0</td>\n",
       "      <td>0.0</td>\n",
       "      <td>0.0</td>\n",
       "      <td>0.0</td>\n",
       "    </tr>\n",
       "    <tr>\n",
       "      <th>3</th>\n",
       "      <td>2015-08-01 18:14:00</td>\n",
       "      <td>548871</td>\n",
       "      <td>339531</td>\n",
       "      <td>1</td>\n",
       "      <td>656</td>\n",
       "      <td>1125.0</td>\n",
       "      <td>0</td>\n",
       "      <td>5</td>\n",
       "      <td>1</td>\n",
       "      <td>18</td>\n",
       "      <td>0.040751</td>\n",
       "      <td>1</td>\n",
       "      <td>481995</td>\n",
       "      <td>303405</td>\n",
       "      <td>430</td>\n",
       "      <td>179</td>\n",
       "      <td>0.0</td>\n",
       "      <td>0.0</td>\n",
       "      <td>0.0</td>\n",
       "      <td>0.0</td>\n",
       "    </tr>\n",
       "    <tr>\n",
       "      <th>4</th>\n",
       "      <td>2015-08-01 18:41:00</td>\n",
       "      <td>1119187</td>\n",
       "      <td>311484</td>\n",
       "      <td>0</td>\n",
       "      <td>1117</td>\n",
       "      <td>14.0</td>\n",
       "      <td>0</td>\n",
       "      <td>5</td>\n",
       "      <td>1</td>\n",
       "      <td>18</td>\n",
       "      <td>0.031076</td>\n",
       "      <td>1</td>\n",
       "      <td>982697</td>\n",
       "      <td>278369</td>\n",
       "      <td>719</td>\n",
       "      <td>3</td>\n",
       "      <td>0.0</td>\n",
       "      <td>0.0</td>\n",
       "      <td>0.0</td>\n",
       "      <td>0.0</td>\n",
       "    </tr>\n",
       "  </tbody>\n",
       "</table>\n",
       "</div>"
      ],
      "text/plain": [
       "            timestamp  user_id  item_id  available  categoryid  parentid  \\\n",
       "0 2015-08-02 05:43:00  1027570     7943          1         398    1323.0   \n",
       "1 2015-08-01 19:09:00   395552    75102          1        1135    1329.0   \n",
       "2 2015-08-01 18:31:00  1396315   165650          1         624     871.0   \n",
       "3 2015-08-01 18:14:00   548871   339531          1         656    1125.0   \n",
       "4 2015-08-01 18:41:00  1119187   311484          0        1117      14.0   \n",
       "\n",
       "   istransaction  day_of_week  day  hour    rating  target  user_id_enc  \\\n",
       "0              0            6    2     5  0.436236       1       902277   \n",
       "1              0            5    1    19  0.006157       1       347325   \n",
       "2              0            5    1    18  0.002932       1      1226101   \n",
       "3              0            5    1    18  0.040751       1       481995   \n",
       "4              0            5    1    18  0.031076       1       982697   \n",
       "\n",
       "   item_id_enc  categoryid_enc  parentid_enc  item_id_week  item_viewed  \\\n",
       "0         7107             259           209           0.0          0.0   \n",
       "1        67134             732           212           0.0          0.0   \n",
       "2       148096             411           136           0.0          0.0   \n",
       "3       303405             430           179           0.0          0.0   \n",
       "4       278369             719             3           0.0          0.0   \n",
       "\n",
       "   rating_avg  rating_std  \n",
       "0         0.0         0.0  \n",
       "1         0.0         0.0  \n",
       "2         0.0         0.0  \n",
       "3         0.0         0.0  \n",
       "4         0.0         0.0  "
      ]
     },
     "execution_count": 50,
     "metadata": {},
     "output_type": "execute_result"
    }
   ],
   "source": [
    "# Поглядим, что получилось\n",
    "candidates_for_train.head()"
   ]
  },
  {
   "cell_type": "code",
   "execution_count": 51,
   "id": "5ef688a6",
   "metadata": {},
   "outputs": [],
   "source": [
    "# Сохранимся\n",
    "candidates_for_train.to_parquet(f'{PATH_DATA}/candidates_for_train.parquet', engine='pyarrow')"
   ]
  },
  {
   "cell_type": "code",
   "execution_count": 52,
   "id": "3e694d14",
   "metadata": {},
   "outputs": [
    {
     "name": "stdout",
     "output_type": "stream",
     "text": [
      "<class 'pandas.core.frame.DataFrame'>\n",
      "Index: 2429483 entries, 0 to 772491\n",
      "Data columns (total 16 columns):\n",
      " #   Column          Dtype         \n",
      "---  ------          -----         \n",
      " 0   timestamp       datetime64[ns]\n",
      " 1   user_id         int64         \n",
      " 2   item_id         int64         \n",
      " 3   available       int64         \n",
      " 4   categoryid      int64         \n",
      " 5   parentid        float64       \n",
      " 6   istransaction   int64         \n",
      " 7   day_of_week     int64         \n",
      " 8   day             int64         \n",
      " 9   hour            int64         \n",
      " 10  rating          float64       \n",
      " 11  target          int64         \n",
      " 12  user_id_enc     int64         \n",
      " 13  item_id_enc     int64         \n",
      " 14  categoryid_enc  int64         \n",
      " 15  parentid_enc    int64         \n",
      "dtypes: datetime64[ns](1), float64(2), int64(13)\n",
      "memory usage: 315.1 MB\n"
     ]
    }
   ],
   "source": [
    "# Объединяем тренировочный и таргетный датафреймы\n",
    "events_inference = pd.concat([events_train, events_labels])\n",
    "events_inference.info()"
   ]
  },
  {
   "cell_type": "code",
   "execution_count": 53,
   "id": "4f79e55b",
   "metadata": {},
   "outputs": [],
   "source": [
    "# Оставляем только тех пользователей, которые присуствуют в тестовой выборке\n",
    "candidates_to_rank = events_inference[events_inference.user_id.isin(events_test_2.user_id.drop_duplicates())]"
   ]
  },
  {
   "cell_type": "code",
   "execution_count": 54,
   "id": "b31e02f3",
   "metadata": {},
   "outputs": [
    {
     "data": {
      "application/vnd.microsoft.datawrangler.viewer.v0+json": {
       "columns": [
        {
         "name": "index",
         "rawType": "int64",
         "type": "integer"
        },
        {
         "name": "timestamp",
         "rawType": "datetime64[ns]",
         "type": "datetime"
        },
        {
         "name": "user_id",
         "rawType": "int64",
         "type": "integer"
        },
        {
         "name": "item_id",
         "rawType": "int64",
         "type": "integer"
        },
        {
         "name": "available",
         "rawType": "int64",
         "type": "integer"
        },
        {
         "name": "categoryid",
         "rawType": "int64",
         "type": "integer"
        },
        {
         "name": "parentid",
         "rawType": "float64",
         "type": "float"
        },
        {
         "name": "istransaction",
         "rawType": "int64",
         "type": "integer"
        },
        {
         "name": "day_of_week",
         "rawType": "int64",
         "type": "integer"
        },
        {
         "name": "day",
         "rawType": "int64",
         "type": "integer"
        },
        {
         "name": "hour",
         "rawType": "int64",
         "type": "integer"
        },
        {
         "name": "rating",
         "rawType": "float64",
         "type": "float"
        },
        {
         "name": "target",
         "rawType": "int64",
         "type": "integer"
        },
        {
         "name": "user_id_enc",
         "rawType": "int64",
         "type": "integer"
        },
        {
         "name": "item_id_enc",
         "rawType": "int64",
         "type": "integer"
        },
        {
         "name": "categoryid_enc",
         "rawType": "int64",
         "type": "integer"
        },
        {
         "name": "parentid_enc",
         "rawType": "int64",
         "type": "integer"
        }
       ],
       "ref": "c1423d9d-d3a3-4dd9-a01d-8d8dbe2ce625",
       "rows": [
        [
         "55",
         "2015-06-02 05:03:00",
         "1219180",
         "422768",
         "0",
         "1240",
         "1546.0",
         "0",
         "1",
         "2",
         "5",
         "0.0038111990618586",
         "0",
         "1070545",
         "377703",
         "798",
         "248"
        ],
        [
         "64",
         "2015-06-02 05:31:00",
         "800456",
         "31514",
         "1",
         "844",
         "1458.0",
         "0",
         "1",
         "2",
         "5",
         "0.0181764878334799",
         "0",
         "702679",
         "28115",
         "549",
         "230"
        ],
        [
         "124",
         "2015-06-02 05:05:00",
         "1118731",
         "350689",
         "1",
         "1634",
         "143.0",
         "0",
         "1",
         "2",
         "5",
         "0.0430958663148636",
         "0",
         "982295",
         "313335",
         "1050",
         "31"
        ],
        [
         "160",
         "2015-06-02 05:40:00",
         "800456",
         "394254",
         "1",
         "84",
         "1308.0",
         "0",
         "1",
         "2",
         "5",
         "0.0117267663441805",
         "0",
         "702679",
         "352270",
         "55",
         "207"
        ],
        [
         "252",
         "2015-06-01 21:26:00",
         "968797",
         "407343",
         "0",
         "1173",
         "805.0",
         "0",
         "0",
         "1",
         "21",
         "0.030196423336265",
         "0",
         "850683",
         "363963",
         "752",
         "127"
        ]
       ],
       "shape": {
        "columns": 16,
        "rows": 5
       }
      },
      "text/html": [
       "<div>\n",
       "<style scoped>\n",
       "    .dataframe tbody tr th:only-of-type {\n",
       "        vertical-align: middle;\n",
       "    }\n",
       "\n",
       "    .dataframe tbody tr th {\n",
       "        vertical-align: top;\n",
       "    }\n",
       "\n",
       "    .dataframe thead th {\n",
       "        text-align: right;\n",
       "    }\n",
       "</style>\n",
       "<table border=\"1\" class=\"dataframe\">\n",
       "  <thead>\n",
       "    <tr style=\"text-align: right;\">\n",
       "      <th></th>\n",
       "      <th>timestamp</th>\n",
       "      <th>user_id</th>\n",
       "      <th>item_id</th>\n",
       "      <th>available</th>\n",
       "      <th>categoryid</th>\n",
       "      <th>parentid</th>\n",
       "      <th>istransaction</th>\n",
       "      <th>day_of_week</th>\n",
       "      <th>day</th>\n",
       "      <th>hour</th>\n",
       "      <th>rating</th>\n",
       "      <th>target</th>\n",
       "      <th>user_id_enc</th>\n",
       "      <th>item_id_enc</th>\n",
       "      <th>categoryid_enc</th>\n",
       "      <th>parentid_enc</th>\n",
       "    </tr>\n",
       "  </thead>\n",
       "  <tbody>\n",
       "    <tr>\n",
       "      <th>55</th>\n",
       "      <td>2015-06-02 05:03:00</td>\n",
       "      <td>1219180</td>\n",
       "      <td>422768</td>\n",
       "      <td>0</td>\n",
       "      <td>1240</td>\n",
       "      <td>1546.0</td>\n",
       "      <td>0</td>\n",
       "      <td>1</td>\n",
       "      <td>2</td>\n",
       "      <td>5</td>\n",
       "      <td>0.003811</td>\n",
       "      <td>0</td>\n",
       "      <td>1070545</td>\n",
       "      <td>377703</td>\n",
       "      <td>798</td>\n",
       "      <td>248</td>\n",
       "    </tr>\n",
       "    <tr>\n",
       "      <th>64</th>\n",
       "      <td>2015-06-02 05:31:00</td>\n",
       "      <td>800456</td>\n",
       "      <td>31514</td>\n",
       "      <td>1</td>\n",
       "      <td>844</td>\n",
       "      <td>1458.0</td>\n",
       "      <td>0</td>\n",
       "      <td>1</td>\n",
       "      <td>2</td>\n",
       "      <td>5</td>\n",
       "      <td>0.018176</td>\n",
       "      <td>0</td>\n",
       "      <td>702679</td>\n",
       "      <td>28115</td>\n",
       "      <td>549</td>\n",
       "      <td>230</td>\n",
       "    </tr>\n",
       "    <tr>\n",
       "      <th>124</th>\n",
       "      <td>2015-06-02 05:05:00</td>\n",
       "      <td>1118731</td>\n",
       "      <td>350689</td>\n",
       "      <td>1</td>\n",
       "      <td>1634</td>\n",
       "      <td>143.0</td>\n",
       "      <td>0</td>\n",
       "      <td>1</td>\n",
       "      <td>2</td>\n",
       "      <td>5</td>\n",
       "      <td>0.043096</td>\n",
       "      <td>0</td>\n",
       "      <td>982295</td>\n",
       "      <td>313335</td>\n",
       "      <td>1050</td>\n",
       "      <td>31</td>\n",
       "    </tr>\n",
       "    <tr>\n",
       "      <th>160</th>\n",
       "      <td>2015-06-02 05:40:00</td>\n",
       "      <td>800456</td>\n",
       "      <td>394254</td>\n",
       "      <td>1</td>\n",
       "      <td>84</td>\n",
       "      <td>1308.0</td>\n",
       "      <td>0</td>\n",
       "      <td>1</td>\n",
       "      <td>2</td>\n",
       "      <td>5</td>\n",
       "      <td>0.011727</td>\n",
       "      <td>0</td>\n",
       "      <td>702679</td>\n",
       "      <td>352270</td>\n",
       "      <td>55</td>\n",
       "      <td>207</td>\n",
       "    </tr>\n",
       "    <tr>\n",
       "      <th>252</th>\n",
       "      <td>2015-06-01 21:26:00</td>\n",
       "      <td>968797</td>\n",
       "      <td>407343</td>\n",
       "      <td>0</td>\n",
       "      <td>1173</td>\n",
       "      <td>805.0</td>\n",
       "      <td>0</td>\n",
       "      <td>0</td>\n",
       "      <td>1</td>\n",
       "      <td>21</td>\n",
       "      <td>0.030196</td>\n",
       "      <td>0</td>\n",
       "      <td>850683</td>\n",
       "      <td>363963</td>\n",
       "      <td>752</td>\n",
       "      <td>127</td>\n",
       "    </tr>\n",
       "  </tbody>\n",
       "</table>\n",
       "</div>"
      ],
      "text/plain": [
       "              timestamp  user_id  item_id  available  categoryid  parentid  \\\n",
       "55  2015-06-02 05:03:00  1219180   422768          0        1240    1546.0   \n",
       "64  2015-06-02 05:31:00   800456    31514          1         844    1458.0   \n",
       "124 2015-06-02 05:05:00  1118731   350689          1        1634     143.0   \n",
       "160 2015-06-02 05:40:00   800456   394254          1          84    1308.0   \n",
       "252 2015-06-01 21:26:00   968797   407343          0        1173     805.0   \n",
       "\n",
       "     istransaction  day_of_week  day  hour    rating  target  user_id_enc  \\\n",
       "55               0            1    2     5  0.003811       0      1070545   \n",
       "64               0            1    2     5  0.018176       0       702679   \n",
       "124              0            1    2     5  0.043096       0       982295   \n",
       "160              0            1    2     5  0.011727       0       702679   \n",
       "252              0            0    1    21  0.030196       0       850683   \n",
       "\n",
       "     item_id_enc  categoryid_enc  parentid_enc  \n",
       "55        377703             798           248  \n",
       "64         28115             549           230  \n",
       "124       313335            1050            31  \n",
       "160       352270              55           207  \n",
       "252       363963             752           127  "
      ]
     },
     "execution_count": 54,
     "metadata": {},
     "output_type": "execute_result"
    }
   ],
   "source": [
    "# Проверяем\n",
    "candidates_to_rank.head()"
   ]
  },
  {
   "cell_type": "code",
   "execution_count": 55,
   "id": "cb5a9493",
   "metadata": {},
   "outputs": [],
   "source": [
    "# Получим новые признаки\n",
    "user_features_for_ranking = get_user_features(events_inference)\n",
    "candidates_to_rank = candidates_to_rank.merge(user_features_for_ranking, on=\"user_id\", how=\"left\").fillna(0)"
   ]
  },
  {
   "cell_type": "code",
   "execution_count": 56,
   "id": "99a9b713",
   "metadata": {},
   "outputs": [
    {
     "data": {
      "application/vnd.microsoft.datawrangler.viewer.v0+json": {
       "columns": [
        {
         "name": "index",
         "rawType": "int64",
         "type": "integer"
        },
        {
         "name": "timestamp",
         "rawType": "datetime64[ns]",
         "type": "datetime"
        },
        {
         "name": "user_id",
         "rawType": "int64",
         "type": "integer"
        },
        {
         "name": "item_id",
         "rawType": "int64",
         "type": "integer"
        },
        {
         "name": "available",
         "rawType": "int64",
         "type": "integer"
        },
        {
         "name": "categoryid",
         "rawType": "int64",
         "type": "integer"
        },
        {
         "name": "parentid",
         "rawType": "float64",
         "type": "float"
        },
        {
         "name": "istransaction",
         "rawType": "int64",
         "type": "integer"
        },
        {
         "name": "day_of_week",
         "rawType": "int64",
         "type": "integer"
        },
        {
         "name": "day",
         "rawType": "int64",
         "type": "integer"
        },
        {
         "name": "hour",
         "rawType": "int64",
         "type": "integer"
        },
        {
         "name": "rating",
         "rawType": "float64",
         "type": "float"
        },
        {
         "name": "target",
         "rawType": "int64",
         "type": "integer"
        },
        {
         "name": "user_id_enc",
         "rawType": "int64",
         "type": "integer"
        },
        {
         "name": "item_id_enc",
         "rawType": "int64",
         "type": "integer"
        },
        {
         "name": "categoryid_enc",
         "rawType": "int64",
         "type": "integer"
        },
        {
         "name": "parentid_enc",
         "rawType": "int64",
         "type": "integer"
        },
        {
         "name": "item_id_week",
         "rawType": "float64",
         "type": "float"
        },
        {
         "name": "item_viewed",
         "rawType": "int64",
         "type": "integer"
        },
        {
         "name": "rating_avg",
         "rawType": "float64",
         "type": "float"
        },
        {
         "name": "rating_std",
         "rawType": "float64",
         "type": "float"
        }
       ],
       "ref": "39d4ea29-9030-445e-ba2b-caff0e43c260",
       "rows": [
        [
         "8",
         "2015-06-01 15:40:00",
         "557378",
         "24855",
         "0",
         "302",
         "1458.0",
         "0",
         "0",
         "1",
         "15",
         "0.0360598065083553",
         "0",
         "489469",
         "22177",
         "199",
         "230",
         "6.0",
         "43",
         "0.016826546126417225",
         "0.01799353420167516"
        ],
        [
         "9",
         "2015-06-01 15:42:00",
         "557378",
         "250658",
         "1",
         "302",
         "1458.0",
         "0",
         "0",
         "1",
         "15",
         "0.0067428906479038",
         "0",
         "489469",
         "223957",
         "199",
         "230",
         "6.0",
         "43",
         "0.016826546126417225",
         "0.01799353420167516"
        ],
        [
         "50",
         "2015-06-01 15:39:00",
         "557378",
         "267641",
         "0",
         "302",
         "1458.0",
         "0",
         "0",
         "1",
         "15",
         "0.0161243037232483",
         "0",
         "489469",
         "239135",
         "199",
         "230",
         "6.0",
         "43",
         "0.016826546126417225",
         "0.01799353420167516"
        ],
        [
         "51",
         "2015-06-01 15:54:00",
         "557378",
         "74642",
         "1",
         "523",
         "593.0",
         "0",
         "0",
         "1",
         "15",
         "0.0038111990618586",
         "0",
         "489469",
         "66727",
         "343",
         "95",
         "6.0",
         "43",
         "0.016826546126417225",
         "0.01799353420167516"
        ],
        [
         "74",
         "2015-06-01 15:43:00",
         "557378",
         "188353",
         "1",
         "302",
         "1458.0",
         "0",
         "0",
         "1",
         "15",
         "0.0090882439167399",
         "0",
         "489469",
         "168336",
         "199",
         "230",
         "6.0",
         "43",
         "0.016826546126417225",
         "0.01799353420167516"
        ],
        [
         "117",
         "2015-06-01 15:38:00",
         "557378",
         "445128",
         "1",
         "302",
         "1458.0",
         "0",
         "0",
         "1",
         "15",
         "0.0105540897097625",
         "0",
         "489469",
         "397662",
         "199",
         "230",
         "6.0",
         "43",
         "0.016826546126417225",
         "0.01799353420167516"
        ],
        [
         "158",
         "2015-06-01 15:44:00",
         "557378",
         "24855",
         "0",
         "302",
         "1458.0",
         "0",
         "0",
         "1",
         "15",
         "0.0360598065083553",
         "1",
         "489469",
         "22177",
         "199",
         "230",
         "6.0",
         "43",
         "0.016826546126417225",
         "0.01799353420167516"
        ],
        [
         "193",
         "2015-06-01 15:37:00",
         "557378",
         "188353",
         "1",
         "302",
         "1458.0",
         "0",
         "0",
         "1",
         "15",
         "0.0090882439167399",
         "0",
         "489469",
         "168336",
         "199",
         "230",
         "6.0",
         "43",
         "0.016826546126417225",
         "0.01799353420167516"
        ],
        [
         "196",
         "2015-06-01 15:44:00",
         "557378",
         "24855",
         "0",
         "302",
         "1458.0",
         "0",
         "0",
         "1",
         "15",
         "0.0360598065083553",
         "0",
         "489469",
         "22177",
         "199",
         "230",
         "6.0",
         "43",
         "0.016826546126417225",
         "0.01799353420167516"
        ],
        [
         "408",
         "2015-06-02 16:03:00",
         "557378",
         "445912",
         "0",
         "646",
         "1606.0",
         "0",
         "1",
         "2",
         "16",
         "0.0032248607446496",
         "0",
         "489469",
         "398370",
         "426",
         "257",
         "6.0",
         "43",
         "0.016826546126417225",
         "0.01799353420167516"
        ]
       ],
       "shape": {
        "columns": 20,
        "rows": 10
       }
      },
      "text/html": [
       "<div>\n",
       "<style scoped>\n",
       "    .dataframe tbody tr th:only-of-type {\n",
       "        vertical-align: middle;\n",
       "    }\n",
       "\n",
       "    .dataframe tbody tr th {\n",
       "        vertical-align: top;\n",
       "    }\n",
       "\n",
       "    .dataframe thead th {\n",
       "        text-align: right;\n",
       "    }\n",
       "</style>\n",
       "<table border=\"1\" class=\"dataframe\">\n",
       "  <thead>\n",
       "    <tr style=\"text-align: right;\">\n",
       "      <th></th>\n",
       "      <th>timestamp</th>\n",
       "      <th>user_id</th>\n",
       "      <th>item_id</th>\n",
       "      <th>available</th>\n",
       "      <th>categoryid</th>\n",
       "      <th>parentid</th>\n",
       "      <th>istransaction</th>\n",
       "      <th>day_of_week</th>\n",
       "      <th>day</th>\n",
       "      <th>hour</th>\n",
       "      <th>rating</th>\n",
       "      <th>target</th>\n",
       "      <th>user_id_enc</th>\n",
       "      <th>item_id_enc</th>\n",
       "      <th>categoryid_enc</th>\n",
       "      <th>parentid_enc</th>\n",
       "      <th>item_id_week</th>\n",
       "      <th>item_viewed</th>\n",
       "      <th>rating_avg</th>\n",
       "      <th>rating_std</th>\n",
       "    </tr>\n",
       "  </thead>\n",
       "  <tbody>\n",
       "    <tr>\n",
       "      <th>8</th>\n",
       "      <td>2015-06-01 15:40:00</td>\n",
       "      <td>557378</td>\n",
       "      <td>24855</td>\n",
       "      <td>0</td>\n",
       "      <td>302</td>\n",
       "      <td>1458.0</td>\n",
       "      <td>0</td>\n",
       "      <td>0</td>\n",
       "      <td>1</td>\n",
       "      <td>15</td>\n",
       "      <td>0.036060</td>\n",
       "      <td>0</td>\n",
       "      <td>489469</td>\n",
       "      <td>22177</td>\n",
       "      <td>199</td>\n",
       "      <td>230</td>\n",
       "      <td>6.0</td>\n",
       "      <td>43</td>\n",
       "      <td>0.016827</td>\n",
       "      <td>0.017994</td>\n",
       "    </tr>\n",
       "    <tr>\n",
       "      <th>9</th>\n",
       "      <td>2015-06-01 15:42:00</td>\n",
       "      <td>557378</td>\n",
       "      <td>250658</td>\n",
       "      <td>1</td>\n",
       "      <td>302</td>\n",
       "      <td>1458.0</td>\n",
       "      <td>0</td>\n",
       "      <td>0</td>\n",
       "      <td>1</td>\n",
       "      <td>15</td>\n",
       "      <td>0.006743</td>\n",
       "      <td>0</td>\n",
       "      <td>489469</td>\n",
       "      <td>223957</td>\n",
       "      <td>199</td>\n",
       "      <td>230</td>\n",
       "      <td>6.0</td>\n",
       "      <td>43</td>\n",
       "      <td>0.016827</td>\n",
       "      <td>0.017994</td>\n",
       "    </tr>\n",
       "    <tr>\n",
       "      <th>50</th>\n",
       "      <td>2015-06-01 15:39:00</td>\n",
       "      <td>557378</td>\n",
       "      <td>267641</td>\n",
       "      <td>0</td>\n",
       "      <td>302</td>\n",
       "      <td>1458.0</td>\n",
       "      <td>0</td>\n",
       "      <td>0</td>\n",
       "      <td>1</td>\n",
       "      <td>15</td>\n",
       "      <td>0.016124</td>\n",
       "      <td>0</td>\n",
       "      <td>489469</td>\n",
       "      <td>239135</td>\n",
       "      <td>199</td>\n",
       "      <td>230</td>\n",
       "      <td>6.0</td>\n",
       "      <td>43</td>\n",
       "      <td>0.016827</td>\n",
       "      <td>0.017994</td>\n",
       "    </tr>\n",
       "    <tr>\n",
       "      <th>51</th>\n",
       "      <td>2015-06-01 15:54:00</td>\n",
       "      <td>557378</td>\n",
       "      <td>74642</td>\n",
       "      <td>1</td>\n",
       "      <td>523</td>\n",
       "      <td>593.0</td>\n",
       "      <td>0</td>\n",
       "      <td>0</td>\n",
       "      <td>1</td>\n",
       "      <td>15</td>\n",
       "      <td>0.003811</td>\n",
       "      <td>0</td>\n",
       "      <td>489469</td>\n",
       "      <td>66727</td>\n",
       "      <td>343</td>\n",
       "      <td>95</td>\n",
       "      <td>6.0</td>\n",
       "      <td>43</td>\n",
       "      <td>0.016827</td>\n",
       "      <td>0.017994</td>\n",
       "    </tr>\n",
       "    <tr>\n",
       "      <th>74</th>\n",
       "      <td>2015-06-01 15:43:00</td>\n",
       "      <td>557378</td>\n",
       "      <td>188353</td>\n",
       "      <td>1</td>\n",
       "      <td>302</td>\n",
       "      <td>1458.0</td>\n",
       "      <td>0</td>\n",
       "      <td>0</td>\n",
       "      <td>1</td>\n",
       "      <td>15</td>\n",
       "      <td>0.009088</td>\n",
       "      <td>0</td>\n",
       "      <td>489469</td>\n",
       "      <td>168336</td>\n",
       "      <td>199</td>\n",
       "      <td>230</td>\n",
       "      <td>6.0</td>\n",
       "      <td>43</td>\n",
       "      <td>0.016827</td>\n",
       "      <td>0.017994</td>\n",
       "    </tr>\n",
       "    <tr>\n",
       "      <th>117</th>\n",
       "      <td>2015-06-01 15:38:00</td>\n",
       "      <td>557378</td>\n",
       "      <td>445128</td>\n",
       "      <td>1</td>\n",
       "      <td>302</td>\n",
       "      <td>1458.0</td>\n",
       "      <td>0</td>\n",
       "      <td>0</td>\n",
       "      <td>1</td>\n",
       "      <td>15</td>\n",
       "      <td>0.010554</td>\n",
       "      <td>0</td>\n",
       "      <td>489469</td>\n",
       "      <td>397662</td>\n",
       "      <td>199</td>\n",
       "      <td>230</td>\n",
       "      <td>6.0</td>\n",
       "      <td>43</td>\n",
       "      <td>0.016827</td>\n",
       "      <td>0.017994</td>\n",
       "    </tr>\n",
       "    <tr>\n",
       "      <th>158</th>\n",
       "      <td>2015-06-01 15:44:00</td>\n",
       "      <td>557378</td>\n",
       "      <td>24855</td>\n",
       "      <td>0</td>\n",
       "      <td>302</td>\n",
       "      <td>1458.0</td>\n",
       "      <td>0</td>\n",
       "      <td>0</td>\n",
       "      <td>1</td>\n",
       "      <td>15</td>\n",
       "      <td>0.036060</td>\n",
       "      <td>1</td>\n",
       "      <td>489469</td>\n",
       "      <td>22177</td>\n",
       "      <td>199</td>\n",
       "      <td>230</td>\n",
       "      <td>6.0</td>\n",
       "      <td>43</td>\n",
       "      <td>0.016827</td>\n",
       "      <td>0.017994</td>\n",
       "    </tr>\n",
       "    <tr>\n",
       "      <th>193</th>\n",
       "      <td>2015-06-01 15:37:00</td>\n",
       "      <td>557378</td>\n",
       "      <td>188353</td>\n",
       "      <td>1</td>\n",
       "      <td>302</td>\n",
       "      <td>1458.0</td>\n",
       "      <td>0</td>\n",
       "      <td>0</td>\n",
       "      <td>1</td>\n",
       "      <td>15</td>\n",
       "      <td>0.009088</td>\n",
       "      <td>0</td>\n",
       "      <td>489469</td>\n",
       "      <td>168336</td>\n",
       "      <td>199</td>\n",
       "      <td>230</td>\n",
       "      <td>6.0</td>\n",
       "      <td>43</td>\n",
       "      <td>0.016827</td>\n",
       "      <td>0.017994</td>\n",
       "    </tr>\n",
       "    <tr>\n",
       "      <th>196</th>\n",
       "      <td>2015-06-01 15:44:00</td>\n",
       "      <td>557378</td>\n",
       "      <td>24855</td>\n",
       "      <td>0</td>\n",
       "      <td>302</td>\n",
       "      <td>1458.0</td>\n",
       "      <td>0</td>\n",
       "      <td>0</td>\n",
       "      <td>1</td>\n",
       "      <td>15</td>\n",
       "      <td>0.036060</td>\n",
       "      <td>0</td>\n",
       "      <td>489469</td>\n",
       "      <td>22177</td>\n",
       "      <td>199</td>\n",
       "      <td>230</td>\n",
       "      <td>6.0</td>\n",
       "      <td>43</td>\n",
       "      <td>0.016827</td>\n",
       "      <td>0.017994</td>\n",
       "    </tr>\n",
       "    <tr>\n",
       "      <th>408</th>\n",
       "      <td>2015-06-02 16:03:00</td>\n",
       "      <td>557378</td>\n",
       "      <td>445912</td>\n",
       "      <td>0</td>\n",
       "      <td>646</td>\n",
       "      <td>1606.0</td>\n",
       "      <td>0</td>\n",
       "      <td>1</td>\n",
       "      <td>2</td>\n",
       "      <td>16</td>\n",
       "      <td>0.003225</td>\n",
       "      <td>0</td>\n",
       "      <td>489469</td>\n",
       "      <td>398370</td>\n",
       "      <td>426</td>\n",
       "      <td>257</td>\n",
       "      <td>6.0</td>\n",
       "      <td>43</td>\n",
       "      <td>0.016827</td>\n",
       "      <td>0.017994</td>\n",
       "    </tr>\n",
       "  </tbody>\n",
       "</table>\n",
       "</div>"
      ],
      "text/plain": [
       "              timestamp  user_id  item_id  available  categoryid  parentid  \\\n",
       "8   2015-06-01 15:40:00   557378    24855          0         302    1458.0   \n",
       "9   2015-06-01 15:42:00   557378   250658          1         302    1458.0   \n",
       "50  2015-06-01 15:39:00   557378   267641          0         302    1458.0   \n",
       "51  2015-06-01 15:54:00   557378    74642          1         523     593.0   \n",
       "74  2015-06-01 15:43:00   557378   188353          1         302    1458.0   \n",
       "117 2015-06-01 15:38:00   557378   445128          1         302    1458.0   \n",
       "158 2015-06-01 15:44:00   557378    24855          0         302    1458.0   \n",
       "193 2015-06-01 15:37:00   557378   188353          1         302    1458.0   \n",
       "196 2015-06-01 15:44:00   557378    24855          0         302    1458.0   \n",
       "408 2015-06-02 16:03:00   557378   445912          0         646    1606.0   \n",
       "\n",
       "     istransaction  day_of_week  day  hour    rating  target  user_id_enc  \\\n",
       "8                0            0    1    15  0.036060       0       489469   \n",
       "9                0            0    1    15  0.006743       0       489469   \n",
       "50               0            0    1    15  0.016124       0       489469   \n",
       "51               0            0    1    15  0.003811       0       489469   \n",
       "74               0            0    1    15  0.009088       0       489469   \n",
       "117              0            0    1    15  0.010554       0       489469   \n",
       "158              0            0    1    15  0.036060       1       489469   \n",
       "193              0            0    1    15  0.009088       0       489469   \n",
       "196              0            0    1    15  0.036060       0       489469   \n",
       "408              0            1    2    16  0.003225       0       489469   \n",
       "\n",
       "     item_id_enc  categoryid_enc  parentid_enc  item_id_week  item_viewed  \\\n",
       "8          22177             199           230           6.0           43   \n",
       "9         223957             199           230           6.0           43   \n",
       "50        239135             199           230           6.0           43   \n",
       "51         66727             343            95           6.0           43   \n",
       "74        168336             199           230           6.0           43   \n",
       "117       397662             199           230           6.0           43   \n",
       "158        22177             199           230           6.0           43   \n",
       "193       168336             199           230           6.0           43   \n",
       "196        22177             199           230           6.0           43   \n",
       "408       398370             426           257           6.0           43   \n",
       "\n",
       "     rating_avg  rating_std  \n",
       "8      0.016827    0.017994  \n",
       "9      0.016827    0.017994  \n",
       "50     0.016827    0.017994  \n",
       "51     0.016827    0.017994  \n",
       "74     0.016827    0.017994  \n",
       "117    0.016827    0.017994  \n",
       "158    0.016827    0.017994  \n",
       "193    0.016827    0.017994  \n",
       "196    0.016827    0.017994  \n",
       "408    0.016827    0.017994  "
      ]
     },
     "execution_count": 56,
     "metadata": {},
     "output_type": "execute_result"
    }
   ],
   "source": [
    "# Поглядим, что получлиось\n",
    "candidates_to_rank[candidates_to_rank['user_id']==557378].head(10)"
   ]
  },
  {
   "cell_type": "code",
   "execution_count": 57,
   "id": "bbf161e6",
   "metadata": {},
   "outputs": [],
   "source": [
    "# Сохранимся\n",
    "candidates_to_rank.to_parquet(f'{PATH_DATA}/candidates_to_rank.parquet', engine='pyarrow')"
   ]
  },
  {
   "cell_type": "markdown",
   "id": "d6ad9b7b",
   "metadata": {},
   "source": [
    "## CatBoostClassifier (вероятности добавления в корзину)"
   ]
  },
  {
   "cell_type": "code",
   "execution_count": 58,
   "id": "0175a231",
   "metadata": {},
   "outputs": [],
   "source": [
    "# Задаём имена колонок c признаками и таргетом\n",
    "features = ['categoryid_enc','parentid_enc', 'available', 'istransaction', 'day_of_week', 'day', 'hour', 'rating', 'item_id_week', 'item_viewed', 'rating_avg', 'rating_std']\n",
    "cat_features = ['categoryid_enc', 'parentid_enc', 'available', 'istransaction','day_of_week', 'day', 'hour']\n",
    "target = [\"target\"]"
   ]
  },
  {
   "cell_type": "code",
   "execution_count": 59,
   "id": "3e7f3b53",
   "metadata": {},
   "outputs": [],
   "source": [
    "train_data = Pool(\n",
    "    data=candidates_for_train[features],\n",
    "    label=candidates_for_train[target],\n",
    "    cat_features=cat_features,\n",
    ")"
   ]
  },
  {
   "cell_type": "code",
   "execution_count": 60,
   "id": "f490eb9b",
   "metadata": {},
   "outputs": [
    {
     "name": "stdout",
     "output_type": "stream",
     "text": [
      "0:\tlearn: 0.6760619\ttotal: 83.7ms\tremaining: 4m 11s\n",
      "500:\tlearn: 0.4995498\ttotal: 12.1s\tremaining: 1m\n",
      "1000:\tlearn: 0.4599263\ttotal: 24.4s\tremaining: 48.8s\n",
      "1500:\tlearn: 0.4254697\ttotal: 36.8s\tremaining: 36.7s\n",
      "2000:\tlearn: 0.3950727\ttotal: 50.2s\tremaining: 25.1s\n",
      "2500:\tlearn: 0.3671823\ttotal: 1m 3s\tremaining: 12.6s\n",
      "2999:\tlearn: 0.3411719\ttotal: 1m 16s\tremaining: 0us\n"
     ]
    },
    {
     "data": {
      "text/plain": [
       "<catboost.core.CatBoostClassifier at 0x7f7196693070>"
      ]
     },
     "execution_count": 60,
     "metadata": {},
     "output_type": "execute_result"
    }
   ],
   "source": [
    "# Инициализируем модель CatBoostClassifier\n",
    "cb_model = CatBoostClassifier(iterations=3000,\n",
    "                           learning_rate=0.1,\n",
    "                           loss_function='Logloss',\n",
    "                           auto_class_weights='Balanced',\n",
    "                           verbose=500,\n",
    "                           random_seed=RANDOM_STATE)\n",
    "\n",
    "# Обучим модель\n",
    "cb_model.fit(train_data)"
   ]
  },
  {
   "cell_type": "code",
   "execution_count": 61,
   "id": "f67cb733",
   "metadata": {},
   "outputs": [],
   "source": [
    "with open(f\"{PATH_MODELS}/{MODEL_FILE}\", \"wb\") as f:\n",
    "    pickle.dump(cb_model, f)"
   ]
  },
  {
   "cell_type": "code",
   "execution_count": 62,
   "id": "fe072a13",
   "metadata": {},
   "outputs": [],
   "source": [
    "# Создадим датасет для катбуста\n",
    "inference_data = Pool(data=candidates_to_rank[features], cat_features=cat_features)\n",
    "# Получим вероятности\n",
    "predictions = cb_model.predict_proba(inference_data)\n",
    "\n",
    "# Создадим признак с вероятностями базовой модели\n",
    "candidates_to_rank[\"cb_score\"] = predictions[:, 1]"
   ]
  },
  {
   "cell_type": "code",
   "execution_count": 63,
   "id": "524e109f",
   "metadata": {},
   "outputs": [],
   "source": [
    "# Для каждого пользователя проставляем rank, начиная с 1 — это максимальный cb_score\n",
    "candidates_to_rank = candidates_to_rank.sort_values([\"user_id\", \"cb_score\"], ascending=[True, False])\n",
    "candidates_to_rank[\"rank\"] = candidates_to_rank.groupby(\"user_id\").cumcount() + 1\n",
    "\n",
    "# Отранжируем рекомендации\n",
    "candidates_to_rank[\"rank\"] = candidates_to_rank.groupby(\"user_id\").cumcount() + 1"
   ]
  },
  {
   "cell_type": "code",
   "execution_count": 64,
   "id": "23558061",
   "metadata": {},
   "outputs": [
    {
     "data": {
      "application/vnd.microsoft.datawrangler.viewer.v0+json": {
       "columns": [
        {
         "name": "index",
         "rawType": "int64",
         "type": "integer"
        },
        {
         "name": "user_id",
         "rawType": "int64",
         "type": "integer"
        },
        {
         "name": "item_id",
         "rawType": "int64",
         "type": "integer"
        },
        {
         "name": "cb_score",
         "rawType": "float64",
         "type": "float"
        },
        {
         "name": "rank",
         "rawType": "int64",
         "type": "integer"
        }
       ],
       "ref": "b7f9e2d6-9b92-4602-be8d-2d1416fb5db3",
       "rows": [
        [
         "66239",
         "164",
         "106828",
         "0.4386852603937913",
         "1"
        ],
        [
         "11550",
         "278",
         "458028",
         "0.43865897518380176",
         "1"
        ],
        [
         "11683",
         "278",
         "405060",
         "0.20874234281077086",
         "2"
        ],
        [
         "7397",
         "535",
         "252427",
         "0.5252946134751008",
         "1"
        ],
        [
         "65937",
         "1014",
         "117431",
         "0.8908150253386284",
         "1"
        ],
        [
         "64898",
         "1014",
         "53078",
         "0.8682017714627447",
         "2"
        ],
        [
         "66116",
         "1014",
         "4613",
         "0.8606643812417372",
         "3"
        ],
        [
         "65034",
         "1014",
         "178797",
         "0.8562501994829204",
         "4"
        ],
        [
         "65913",
         "1014",
         "342614",
         "0.851845853042597",
         "5"
        ],
        [
         "64680",
         "1014",
         "170298",
         "0.8515400475078707",
         "6"
        ]
       ],
       "shape": {
        "columns": 4,
        "rows": 10
       }
      },
      "text/html": [
       "<div>\n",
       "<style scoped>\n",
       "    .dataframe tbody tr th:only-of-type {\n",
       "        vertical-align: middle;\n",
       "    }\n",
       "\n",
       "    .dataframe tbody tr th {\n",
       "        vertical-align: top;\n",
       "    }\n",
       "\n",
       "    .dataframe thead th {\n",
       "        text-align: right;\n",
       "    }\n",
       "</style>\n",
       "<table border=\"1\" class=\"dataframe\">\n",
       "  <thead>\n",
       "    <tr style=\"text-align: right;\">\n",
       "      <th></th>\n",
       "      <th>user_id</th>\n",
       "      <th>item_id</th>\n",
       "      <th>cb_score</th>\n",
       "      <th>rank</th>\n",
       "    </tr>\n",
       "  </thead>\n",
       "  <tbody>\n",
       "    <tr>\n",
       "      <th>66239</th>\n",
       "      <td>164</td>\n",
       "      <td>106828</td>\n",
       "      <td>0.438685</td>\n",
       "      <td>1</td>\n",
       "    </tr>\n",
       "    <tr>\n",
       "      <th>11550</th>\n",
       "      <td>278</td>\n",
       "      <td>458028</td>\n",
       "      <td>0.438659</td>\n",
       "      <td>1</td>\n",
       "    </tr>\n",
       "    <tr>\n",
       "      <th>11683</th>\n",
       "      <td>278</td>\n",
       "      <td>405060</td>\n",
       "      <td>0.208742</td>\n",
       "      <td>2</td>\n",
       "    </tr>\n",
       "    <tr>\n",
       "      <th>7397</th>\n",
       "      <td>535</td>\n",
       "      <td>252427</td>\n",
       "      <td>0.525295</td>\n",
       "      <td>1</td>\n",
       "    </tr>\n",
       "    <tr>\n",
       "      <th>65937</th>\n",
       "      <td>1014</td>\n",
       "      <td>117431</td>\n",
       "      <td>0.890815</td>\n",
       "      <td>1</td>\n",
       "    </tr>\n",
       "    <tr>\n",
       "      <th>64898</th>\n",
       "      <td>1014</td>\n",
       "      <td>53078</td>\n",
       "      <td>0.868202</td>\n",
       "      <td>2</td>\n",
       "    </tr>\n",
       "    <tr>\n",
       "      <th>66116</th>\n",
       "      <td>1014</td>\n",
       "      <td>4613</td>\n",
       "      <td>0.860664</td>\n",
       "      <td>3</td>\n",
       "    </tr>\n",
       "    <tr>\n",
       "      <th>65034</th>\n",
       "      <td>1014</td>\n",
       "      <td>178797</td>\n",
       "      <td>0.856250</td>\n",
       "      <td>4</td>\n",
       "    </tr>\n",
       "    <tr>\n",
       "      <th>65913</th>\n",
       "      <td>1014</td>\n",
       "      <td>342614</td>\n",
       "      <td>0.851846</td>\n",
       "      <td>5</td>\n",
       "    </tr>\n",
       "    <tr>\n",
       "      <th>64680</th>\n",
       "      <td>1014</td>\n",
       "      <td>170298</td>\n",
       "      <td>0.851540</td>\n",
       "      <td>6</td>\n",
       "    </tr>\n",
       "  </tbody>\n",
       "</table>\n",
       "</div>"
      ],
      "text/plain": [
       "       user_id  item_id  cb_score  rank\n",
       "66239      164   106828  0.438685     1\n",
       "11550      278   458028  0.438659     1\n",
       "11683      278   405060  0.208742     2\n",
       "7397       535   252427  0.525295     1\n",
       "65937     1014   117431  0.890815     1\n",
       "64898     1014    53078  0.868202     2\n",
       "66116     1014     4613  0.860664     3\n",
       "65034     1014   178797  0.856250     4\n",
       "65913     1014   342614  0.851846     5\n",
       "64680     1014   170298  0.851540     6"
      ]
     },
     "execution_count": 64,
     "metadata": {},
     "output_type": "execute_result"
    }
   ],
   "source": [
    "# Посмотрим на результат\n",
    "candidates_to_rank[['user_id','item_id','cb_score','rank']].head(10)"
   ]
  },
  {
   "cell_type": "code",
   "execution_count": 65,
   "id": "2080a700",
   "metadata": {},
   "outputs": [
    {
     "data": {
      "image/png": "[encoded data removed]",
      "text/plain": [
       "<Figure size 1000x600 with 1 Axes>"
      ]
     },
     "metadata": {},
     "output_type": "display_data"
    }
   ],
   "source": [
    "# Создаем серию с важностью признаков\n",
    "imp = pd.Series(cb_model.feature_importances_, index=features)\n",
    "\n",
    "# Сортируем значения по убыванию\n",
    "imp_sorted = imp.sort_values(ascending=False)\n",
    "\n",
    "# Настройка стиля Seaborn\n",
    "sns.set_style(\"whitegrid\")\n",
    "\n",
    "# Создаем график\n",
    "plt.figure(figsize=(10, 6))\n",
    "sns.barplot(\n",
    "    x=imp_sorted.values,\n",
    "    y=imp_sorted.index,\n",
    "    palette='viridis',\n",
    "    edgecolor='white',\n",
    "    linewidth=1\n",
    ")\n",
    "\n",
    "# Добавляем значения важности прямо на график\n",
    "for i, v in enumerate(imp_sorted.values):\n",
    "    plt.text(v + 0.01, i, f'{v:.2f}', color='black', ha='left', va='center')\n",
    "\n",
    "# Настройка оформления\n",
    "plt.title('Важность признаков', fontsize=14, fontweight='bold')\n",
    "plt.xlabel('Уровень важности', fontsize=12)\n",
    "plt.ylabel('Признаки', fontsize=12)\n",
    "plt.xticks(fontsize=10)\n",
    "plt.yticks(fontsize=10)\n",
    "\n",
    "# Улучшаем сетку\n",
    "plt.grid(axis='x', linestyle='--', alpha=0.7)\n",
    "\n",
    "# Сохраняем график\n",
    "plt.tight_layout()\n",
    "plt.savefig(os.path.join(ASSETS_DIR, 'cb_features_important.png'), dpi=300)\n",
    "\n",
    "# Показываем график\n",
    "plt.show()"
   ]
  },
  {
   "cell_type": "code",
   "execution_count": 66,
   "id": "97809692",
   "metadata": {},
   "outputs": [],
   "source": [
    "# Сохраним результат с другим названием\n",
    "recommendations = candidates_to_rank[['user_id','item_id','rank', 'cb_score']].copy()\n",
    "\n",
    "# Сохраним результат в рекомендации\n",
    "recommendations.to_parquet(\"../recommendations/recommendations.parquet\", engine='pyarrow')"
   ]
  },
  {
   "cell_type": "code",
   "execution_count": 67,
   "id": "36b8e770",
   "metadata": {},
   "outputs": [
    {
     "name": "stderr",
     "output_type": "stream",
     "text": [
      "2025/07/04 18:42:25 WARNING mlflow.models.model: `artifact_path` is deprecated. Please use `name` instead.\n",
      "2025/07/04 18:42:27 WARNING mlflow.utils.requirements_utils: Detected one or more mismatches between the model's dependencies and the current Python environment:\n",
      " - fastapi (current: 0.115.13, required: fastapi==0.104.1)\n",
      " - requests (current: 2.32.4, required: requests==2.31.0)\n",
      "To fix the mismatches, call `mlflow.pyfunc.get_model_dependencies(model_uri)` to fetch the model's environment and install dependencies using the resulting environment file.\n",
      "2025/07/04 18:42:27 WARNING mlflow.utils.requirements_utils: Detected one or more mismatches between the model's dependencies and the current Python environment:\n",
      " - fastapi (current: 0.115.13, required: fastapi==0.104.1)\n",
      " - requests (current: 2.32.4, required: requests==2.31.0)\n",
      "To fix the mismatches, call `mlflow.pyfunc.get_model_dependencies(model_uri)` to fetch the model's environment and install dependencies using the resulting environment file.\n",
      "Successfully registered model 'ranking_model'.\n",
      "2025/07/04 18:42:29 INFO mlflow.store.model_registry.abstract_store: Waiting up to 60 seconds for model version to finish creation. Model name: ranking_model, version 1\n",
      "Created version '1' of model 'ranking_model'.\n"
     ]
    },
    {
     "name": "stdout",
     "output_type": "stream",
     "text": [
      "🏃 View run exp_final_recs at: http://127.0.0.1:5000/#/experiments/38/runs/d18b16d323c24f6e8fe5d27e12f644b8\n",
      "🧪 View experiment at: http://127.0.0.1:5000/#/experiments/38\n"
     ]
    }
   ],
   "source": [
    "RUN_NAME = 'exp_final_recs'\n",
    "\n",
    "os.environ[\"MLFLOW_S3_ENDPOINT_URL\"] = \"https://storage.yandexcloud.net\" \n",
    "os.environ[\"AWS_ACCESS_KEY_ID\"] = os.getenv(\"AWS_ACCESS_KEY_ID\") \n",
    "os.environ[\"AWS_SECRET_ACCESS_KEY\"] = os.getenv(\"AWS_SECRET_ACCESS_KEY\")\n",
    "\n",
    "\n",
    "mlflow.set_tracking_uri(f\"http://{TRACKING_SERVER_HOST}:{TRACKING_SERVER_PORT}\")\n",
    "mlflow.set_registry_uri(f\"http://{TRACKING_SERVER_HOST}:{TRACKING_SERVER_PORT}\")\n",
    "\n",
    "# настройки для логирования в MLFlow\n",
    "pip_requirements = '../requirements.txt'\n",
    "signature = mlflow.models.infer_signature(candidates_for_train[features], candidates_to_rank[\"cb_score\"])\n",
    "input_example = candidates_for_train[features][:10]\n",
    "\n",
    "experiment_id = mlflow.get_experiment_by_name(EXPERIMENT_NAME).experiment_id\n",
    "\n",
    "parquet_file_path = \"recommendations.parquet\"\n",
    "recommendations.to_parquet(parquet_file_path, engine='pyarrow')\n",
    "\n",
    "with mlflow.start_run(run_name=RUN_NAME, experiment_id=experiment_id) as run:\n",
    "    run_id = run.info.run_id\n",
    "    \n",
    "    mlflow.log_artifacts(ASSETS_DIR)\n",
    "\n",
    "    model_info = mlflow.catboost.log_model( \n",
    "\t\tcb_model=cb_model,\n",
    "        artifact_path=\"models\",\n",
    "        registered_model_name=REGISTRY_MODEL_NAME,\n",
    "        signature=signature,\n",
    "        input_example=input_example,\n",
    "        await_registration_for=60,\n",
    "        pip_requirements=pip_requirements)\n",
    "    \n",
    "    mlflow.log_artifact(parquet_file_path)"
   ]
  },
  {
   "cell_type": "markdown",
   "id": "a52a73b4",
   "metadata": {},
   "source": [
    "# Оценка качества"
   ]
  },
  {
   "cell_type": "code",
   "execution_count": 68,
   "id": "f29c9193",
   "metadata": {},
   "outputs": [],
   "source": [
    "# Загрузим рекомендации\n",
    "top_items = pd.read_parquet('../recommendations/top_popular.parquet')\n",
    "cold_users = pd.read_csv('../data/cold_users.csv', index_col=False)"
   ]
  },
  {
   "cell_type": "code",
   "execution_count": 69,
   "id": "a8794491",
   "metadata": {},
   "outputs": [
    {
     "name": "stdout",
     "output_type": "stream",
     "text": [
      "<class 'pandas.core.frame.DataFrame'>\n",
      "Index: 679191 entries, 555893 to 2500064\n",
      "Data columns (total 12 columns):\n",
      " #   Column         Non-Null Count   Dtype         \n",
      "---  ------         --------------   -----         \n",
      " 0   timestamp      679191 non-null  datetime64[ns]\n",
      " 1   user_id        679191 non-null  int64         \n",
      " 2   item_id        679191 non-null  int64         \n",
      " 3   available      679191 non-null  int64         \n",
      " 4   categoryid     679191 non-null  int64         \n",
      " 5   parentid       679191 non-null  float64       \n",
      " 6   istransaction  679191 non-null  int64         \n",
      " 7   day_of_week    679191 non-null  int64         \n",
      " 8   day            679191 non-null  int64         \n",
      " 9   hour           679191 non-null  int64         \n",
      " 10  rating         679191 non-null  float64       \n",
      " 11  target         679191 non-null  int64         \n",
      "dtypes: datetime64[ns](1), float64(2), int64(9)\n",
      "memory usage: 67.4 MB\n"
     ]
    }
   ],
   "source": [
    "# Возьмем холодных пользователей для оценки\n",
    "user_list = list(cold_users['user_id'].unique())\n",
    "\n",
    "events_cold = events[events['user_id'].isin(user_list)]\n",
    "events_cold.info()"
   ]
  },
  {
   "cell_type": "code",
   "execution_count": 70,
   "id": "0d260f28",
   "metadata": {},
   "outputs": [
    {
     "data": {
      "application/vnd.microsoft.datawrangler.viewer.v0+json": {
       "columns": [
        {
         "name": "index",
         "rawType": "int64",
         "type": "integer"
        },
        {
         "name": "timestamp",
         "rawType": "datetime64[ns]",
         "type": "datetime"
        },
        {
         "name": "user_id",
         "rawType": "int64",
         "type": "integer"
        },
        {
         "name": "item_id",
         "rawType": "int64",
         "type": "integer"
        },
        {
         "name": "available",
         "rawType": "int64",
         "type": "integer"
        },
        {
         "name": "categoryid",
         "rawType": "int64",
         "type": "integer"
        },
        {
         "name": "parentid",
         "rawType": "float64",
         "type": "float"
        },
        {
         "name": "istransaction",
         "rawType": "int64",
         "type": "integer"
        },
        {
         "name": "day_of_week",
         "rawType": "int64",
         "type": "integer"
        },
        {
         "name": "day",
         "rawType": "int64",
         "type": "integer"
        },
        {
         "name": "hour",
         "rawType": "int64",
         "type": "integer"
        },
        {
         "name": "rating",
         "rawType": "float64",
         "type": "float"
        },
        {
         "name": "target",
         "rawType": "int64",
         "type": "integer"
        }
       ],
       "ref": "2a16e791-a663-47ab-b7df-8e714b81edbe",
       "rows": [
        [
         "555893",
         "2015-08-02 05:47:00",
         "1190029",
         "338463",
         "0",
         "1483",
         "561.0",
         "0",
         "6",
         "2",
         "5",
         "0.0029316915860451",
         "0"
        ],
        [
         "555894",
         "2015-08-02 05:34:00",
         "1111168",
         "456909",
         "0",
         "64",
         "206.0",
         "0",
         "6",
         "2",
         "5",
         "0.0126062738199941",
         "0"
        ],
        [
         "555895",
         "2015-08-02 05:54:00",
         "505655",
         "409804",
         "1",
         "1191",
         "61.0",
         "0",
         "6",
         "2",
         "5",
         "0.2442099091175608",
         "0"
        ],
        [
         "555896",
         "2015-08-02 05:53:00",
         "581285",
         "133215",
         "0",
         "973",
         "20.0",
         "0",
         "6",
         "2",
         "5",
         "0.0023453532688361",
         "0"
        ],
        [
         "555897",
         "2015-08-02 05:47:00",
         "830739",
         "82281",
         "0",
         "860",
         "1515.0",
         "0",
         "6",
         "2",
         "5",
         "0.0064497214892993",
         "0"
        ]
       ],
       "shape": {
        "columns": 12,
        "rows": 5
       }
      },
      "text/html": [
       "<div>\n",
       "<style scoped>\n",
       "    .dataframe tbody tr th:only-of-type {\n",
       "        vertical-align: middle;\n",
       "    }\n",
       "\n",
       "    .dataframe tbody tr th {\n",
       "        vertical-align: top;\n",
       "    }\n",
       "\n",
       "    .dataframe thead th {\n",
       "        text-align: right;\n",
       "    }\n",
       "</style>\n",
       "<table border=\"1\" class=\"dataframe\">\n",
       "  <thead>\n",
       "    <tr style=\"text-align: right;\">\n",
       "      <th></th>\n",
       "      <th>timestamp</th>\n",
       "      <th>user_id</th>\n",
       "      <th>item_id</th>\n",
       "      <th>available</th>\n",
       "      <th>categoryid</th>\n",
       "      <th>parentid</th>\n",
       "      <th>istransaction</th>\n",
       "      <th>day_of_week</th>\n",
       "      <th>day</th>\n",
       "      <th>hour</th>\n",
       "      <th>rating</th>\n",
       "      <th>target</th>\n",
       "    </tr>\n",
       "  </thead>\n",
       "  <tbody>\n",
       "    <tr>\n",
       "      <th>555893</th>\n",
       "      <td>2015-08-02 05:47:00</td>\n",
       "      <td>1190029</td>\n",
       "      <td>338463</td>\n",
       "      <td>0</td>\n",
       "      <td>1483</td>\n",
       "      <td>561.0</td>\n",
       "      <td>0</td>\n",
       "      <td>6</td>\n",
       "      <td>2</td>\n",
       "      <td>5</td>\n",
       "      <td>0.002932</td>\n",
       "      <td>0</td>\n",
       "    </tr>\n",
       "    <tr>\n",
       "      <th>555894</th>\n",
       "      <td>2015-08-02 05:34:00</td>\n",
       "      <td>1111168</td>\n",
       "      <td>456909</td>\n",
       "      <td>0</td>\n",
       "      <td>64</td>\n",
       "      <td>206.0</td>\n",
       "      <td>0</td>\n",
       "      <td>6</td>\n",
       "      <td>2</td>\n",
       "      <td>5</td>\n",
       "      <td>0.012606</td>\n",
       "      <td>0</td>\n",
       "    </tr>\n",
       "    <tr>\n",
       "      <th>555895</th>\n",
       "      <td>2015-08-02 05:54:00</td>\n",
       "      <td>505655</td>\n",
       "      <td>409804</td>\n",
       "      <td>1</td>\n",
       "      <td>1191</td>\n",
       "      <td>61.0</td>\n",
       "      <td>0</td>\n",
       "      <td>6</td>\n",
       "      <td>2</td>\n",
       "      <td>5</td>\n",
       "      <td>0.244210</td>\n",
       "      <td>0</td>\n",
       "    </tr>\n",
       "    <tr>\n",
       "      <th>555896</th>\n",
       "      <td>2015-08-02 05:53:00</td>\n",
       "      <td>581285</td>\n",
       "      <td>133215</td>\n",
       "      <td>0</td>\n",
       "      <td>973</td>\n",
       "      <td>20.0</td>\n",
       "      <td>0</td>\n",
       "      <td>6</td>\n",
       "      <td>2</td>\n",
       "      <td>5</td>\n",
       "      <td>0.002345</td>\n",
       "      <td>0</td>\n",
       "    </tr>\n",
       "    <tr>\n",
       "      <th>555897</th>\n",
       "      <td>2015-08-02 05:47:00</td>\n",
       "      <td>830739</td>\n",
       "      <td>82281</td>\n",
       "      <td>0</td>\n",
       "      <td>860</td>\n",
       "      <td>1515.0</td>\n",
       "      <td>0</td>\n",
       "      <td>6</td>\n",
       "      <td>2</td>\n",
       "      <td>5</td>\n",
       "      <td>0.006450</td>\n",
       "      <td>0</td>\n",
       "    </tr>\n",
       "  </tbody>\n",
       "</table>\n",
       "</div>"
      ],
      "text/plain": [
       "                 timestamp  user_id  item_id  available  categoryid  parentid  \\\n",
       "555893 2015-08-02 05:47:00  1190029   338463          0        1483     561.0   \n",
       "555894 2015-08-02 05:34:00  1111168   456909          0          64     206.0   \n",
       "555895 2015-08-02 05:54:00   505655   409804          1        1191      61.0   \n",
       "555896 2015-08-02 05:53:00   581285   133215          0         973      20.0   \n",
       "555897 2015-08-02 05:47:00   830739    82281          0         860    1515.0   \n",
       "\n",
       "        istransaction  day_of_week  day  hour    rating  target  \n",
       "555893              0            6    2     5  0.002932       0  \n",
       "555894              0            6    2     5  0.012606       0  \n",
       "555895              0            6    2     5  0.244210       0  \n",
       "555896              0            6    2     5  0.002345       0  \n",
       "555897              0            6    2     5  0.006450       0  "
      ]
     },
     "execution_count": 70,
     "metadata": {},
     "output_type": "execute_result"
    }
   ],
   "source": [
    "# Посмотрим на данные\n",
    "events_cold.head()"
   ]
  },
  {
   "cell_type": "code",
   "execution_count": 71,
   "id": "c375d0d5",
   "metadata": {},
   "outputs": [
    {
     "data": {
      "application/vnd.microsoft.datawrangler.viewer.v0+json": {
       "columns": [
        {
         "name": "index",
         "rawType": "int64",
         "type": "integer"
        },
        {
         "name": "item_id",
         "rawType": "int64",
         "type": "integer"
        },
        {
         "name": "users",
         "rawType": "int64",
         "type": "integer"
        },
        {
         "name": "avg_rating",
         "rawType": "float64",
         "type": "float"
        },
        {
         "name": "rank",
         "rawType": "int64",
         "type": "integer"
        }
       ],
       "ref": "b3c57bcb-de21-4c69-88d1-b97e216e97d3",
       "rows": [
        [
         "1861",
         "5411",
         "1686",
         "0.683963647024333",
         "1"
        ],
        [
         "127038",
         "370653",
         "1236",
         "0.5432424508941659",
         "2"
        ],
        [
         "102080",
         "298009",
         "1083",
         "0.4810905892700088",
         "3"
        ],
        [
         "106110",
         "309778",
         "1033",
         "0.4769862210495456",
         "4"
        ],
        [
         "115071",
         "335975",
         "999",
         "0.41835238932864255",
         "5"
        ]
       ],
       "shape": {
        "columns": 4,
        "rows": 5
       }
      },
      "text/html": [
       "<div>\n",
       "<style scoped>\n",
       "    .dataframe tbody tr th:only-of-type {\n",
       "        vertical-align: middle;\n",
       "    }\n",
       "\n",
       "    .dataframe tbody tr th {\n",
       "        vertical-align: top;\n",
       "    }\n",
       "\n",
       "    .dataframe thead th {\n",
       "        text-align: right;\n",
       "    }\n",
       "</style>\n",
       "<table border=\"1\" class=\"dataframe\">\n",
       "  <thead>\n",
       "    <tr style=\"text-align: right;\">\n",
       "      <th></th>\n",
       "      <th>item_id</th>\n",
       "      <th>users</th>\n",
       "      <th>avg_rating</th>\n",
       "      <th>rank</th>\n",
       "    </tr>\n",
       "  </thead>\n",
       "  <tbody>\n",
       "    <tr>\n",
       "      <th>1861</th>\n",
       "      <td>5411</td>\n",
       "      <td>1686</td>\n",
       "      <td>0.683964</td>\n",
       "      <td>1</td>\n",
       "    </tr>\n",
       "    <tr>\n",
       "      <th>127038</th>\n",
       "      <td>370653</td>\n",
       "      <td>1236</td>\n",
       "      <td>0.543242</td>\n",
       "      <td>2</td>\n",
       "    </tr>\n",
       "    <tr>\n",
       "      <th>102080</th>\n",
       "      <td>298009</td>\n",
       "      <td>1083</td>\n",
       "      <td>0.481091</td>\n",
       "      <td>3</td>\n",
       "    </tr>\n",
       "    <tr>\n",
       "      <th>106110</th>\n",
       "      <td>309778</td>\n",
       "      <td>1033</td>\n",
       "      <td>0.476986</td>\n",
       "      <td>4</td>\n",
       "    </tr>\n",
       "    <tr>\n",
       "      <th>115071</th>\n",
       "      <td>335975</td>\n",
       "      <td>999</td>\n",
       "      <td>0.418352</td>\n",
       "      <td>5</td>\n",
       "    </tr>\n",
       "  </tbody>\n",
       "</table>\n",
       "</div>"
      ],
      "text/plain": [
       "        item_id  users  avg_rating  rank\n",
       "1861       5411   1686    0.683964     1\n",
       "127038   370653   1236    0.543242     2\n",
       "102080   298009   1083    0.481091     3\n",
       "106110   309778   1033    0.476986     4\n",
       "115071   335975    999    0.418352     5"
      ]
     },
     "execution_count": 71,
     "metadata": {},
     "output_type": "execute_result"
    }
   ],
   "source": [
    "# Напомним, как выглядели рекомендации\n",
    "top_items.head()"
   ]
  },
  {
   "cell_type": "code",
   "execution_count": 72,
   "id": "daea7f0a",
   "metadata": {},
   "outputs": [],
   "source": [
    "# Добавим топ товаров\n",
    "cold_users_events_with_recs = events_cold.merge(top_items, on=\"item_id\", how=\"left\") \n",
    "\n",
    "# Отберем данные, которые удалось получить из рекомендаций без пропусков\n",
    "cold_user_items_no_avg_rating_idx = cold_users_events_with_recs[\"avg_rating\"].isnull()\n",
    "cold_user_recs = cold_users_events_with_recs[~cold_user_items_no_avg_rating_idx] \\\n",
    "                 [[\"user_id\", \"item_id\", \"avg_rating\"]]\n",
    "\n",
    "# Отберем данные, где рекомендации не были получены\n",
    "cold_user_no_recs = cold_users_events_with_recs[cold_user_items_no_avg_rating_idx] \\\n",
    "                  [[\"user_id\", \"item_id\", \"avg_rating\"]] "
   ]
  },
  {
   "cell_type": "code",
   "execution_count": 73,
   "id": "e629b6f1",
   "metadata": {},
   "outputs": [
    {
     "name": "stdout",
     "output_type": "stream",
     "text": [
      "Доля пользователей без релевантных рекомендаций: 0.97\n",
      "Среднее покрытие пользователей: 0.83\n"
     ]
    }
   ],
   "source": [
    "# Посчитаем покрытие холодных пользователей рекомендациями\n",
    "cold_users_hit_ratio = cold_users_events_with_recs.groupby(\"user_id\").agg(hits=(\"avg_rating\", lambda x: (~x.isnull()).mean()))\n",
    "\n",
    "coverage_top = cold_users_hit_ratio[cold_users_hit_ratio != 0].mean().iat[0]\n",
    "\n",
    "print(f\"Доля пользователей без релевантных рекомендаций: {(cold_users_hit_ratio == 0).mean().iat[0]:.2f}\")\n",
    "print(f\"Среднее покрытие пользователей: {cold_users_hit_ratio[cold_users_hit_ratio != 0].mean().iat[0]:.2f}\")"
   ]
  },
  {
   "cell_type": "code",
   "execution_count": 74,
   "id": "df89ae56",
   "metadata": {},
   "outputs": [
    {
     "name": "stdout",
     "output_type": "stream",
     "text": [
      "Рекомендации топ-50, recall: 0.02098\n"
     ]
    }
   ],
   "source": [
    "# Зададим функцию для расчета recall\n",
    "def calculate_not_null_mean(series: pd.Series) -> float:\n",
    "    \"\"\"Вычисляет среднее значение ненулевых значений\"\"\"\n",
    "    return series.notnull().mean()\n",
    "\n",
    "# Расчитаем среднее количество вхождений популярных товаров для всех юзеров\n",
    "recall_top_popular = cold_users_events_with_recs.groupby(\"user_id\")[\"avg_rating\"].apply(calculate_not_null_mean).mean()\n",
    "\n",
    "print(f\"Рекомендации топ-50, recall: {recall_top_popular:.5f}\")"
   ]
  },
  {
   "cell_type": "markdown",
   "id": "ae47a950",
   "metadata": {},
   "source": [
    "Отвратительный recall, може повезет с рекомендациями"
   ]
  },
  {
   "cell_type": "code",
   "execution_count": 75,
   "id": "ab58dc6d",
   "metadata": {},
   "outputs": [],
   "source": [
    "# Загрузим рекомендации\n",
    "final_recommendations = pd.read_parquet('../recommendations/recommendations.parquet', engine='pyarrow')"
   ]
  },
  {
   "cell_type": "code",
   "execution_count": 76,
   "id": "f93297b7",
   "metadata": {},
   "outputs": [
    {
     "data": {
      "application/vnd.microsoft.datawrangler.viewer.v0+json": {
       "columns": [
        {
         "name": "index",
         "rawType": "int64",
         "type": "integer"
        },
        {
         "name": "user_id",
         "rawType": "int64",
         "type": "integer"
        },
        {
         "name": "item_id",
         "rawType": "int64",
         "type": "integer"
        },
        {
         "name": "rank",
         "rawType": "int64",
         "type": "integer"
        },
        {
         "name": "cb_score",
         "rawType": "float64",
         "type": "float"
        }
       ],
       "ref": "86b9324b-62cb-4880-a2a8-60af2b6ac0c7",
       "rows": [
        [
         "66239",
         "164",
         "106828",
         "1",
         "0.4386852603937913"
        ],
        [
         "11550",
         "278",
         "458028",
         "1",
         "0.43865897518380176"
        ],
        [
         "11683",
         "278",
         "405060",
         "2",
         "0.20874234281077086"
        ],
        [
         "7397",
         "535",
         "252427",
         "1",
         "0.5252946134751008"
        ],
        [
         "65937",
         "1014",
         "117431",
         "1",
         "0.8908150253386284"
        ],
        [
         "64898",
         "1014",
         "53078",
         "2",
         "0.8682017714627447"
        ],
        [
         "66116",
         "1014",
         "4613",
         "3",
         "0.8606643812417372"
        ],
        [
         "65034",
         "1014",
         "178797",
         "4",
         "0.8562501994829204"
        ],
        [
         "65913",
         "1014",
         "342614",
         "5",
         "0.851845853042597"
        ],
        [
         "64680",
         "1014",
         "170298",
         "6",
         "0.8515400475078707"
        ],
        [
         "64674",
         "1014",
         "228372",
         "7",
         "0.788429822921548"
        ],
        [
         "63046",
         "1014",
         "311775",
         "8",
         "0.7769922682968474"
        ],
        [
         "66112",
         "1014",
         "184655",
         "9",
         "0.7734522867853157"
        ],
        [
         "64164",
         "1014",
         "168712",
         "10",
         "0.7629241271992644"
        ],
        [
         "65366",
         "1014",
         "38311",
         "11",
         "0.7613257152001921"
        ],
        [
         "62103",
         "1014",
         "389732",
         "12",
         "0.7596458679038816"
        ],
        [
         "63050",
         "1014",
         "389732",
         "13",
         "0.7596458679038816"
        ],
        [
         "63425",
         "1014",
         "178797",
         "14",
         "0.7509977183284179"
        ],
        [
         "64851",
         "1014",
         "333219",
         "15",
         "0.7498854526249654"
        ],
        [
         "63747",
         "1014",
         "316010",
         "16",
         "0.7321248840759298"
        ],
        [
         "62408",
         "1014",
         "456297",
         "17",
         "0.7277256584265088"
        ],
        [
         "66156",
         "1014",
         "103412",
         "18",
         "0.6819594154190364"
        ],
        [
         "62407",
         "1014",
         "142105",
         "19",
         "0.6391616500397143"
        ],
        [
         "64598",
         "1014",
         "299804",
         "20",
         "0.5211759654908106"
        ],
        [
         "64934",
         "1014",
         "396134",
         "21",
         "0.4872211418335112"
        ],
        [
         "46921",
         "1612",
         "177570",
         "1",
         "0.3210588059933174"
        ],
        [
         "50871",
         "1808",
         "141635",
         "1",
         "0.5098353266583672"
        ],
        [
         "69677",
         "2169",
         "268815",
         "1",
         "0.30123927043962884"
        ],
        [
         "16435",
         "2454",
         "275269",
         "1",
         "0.6247701788090192"
        ],
        [
         "66063",
         "2454",
         "362974",
         "2",
         "0.5231636115470535"
        ],
        [
         "57812",
         "2519",
         "248032",
         "1",
         "0.7273481928993697"
        ],
        [
         "57575",
         "2519",
         "413125",
         "2",
         "0.7185296951729118"
        ],
        [
         "57804",
         "2519",
         "413125",
         "3",
         "0.7185296951729118"
        ],
        [
         "57805",
         "2519",
         "413125",
         "4",
         "0.7185296951729118"
        ],
        [
         "19912",
         "2725",
         "376400",
         "1",
         "0.2567274564707975"
        ],
        [
         "16381",
         "2783",
         "115967",
         "1",
         "0.7749647174780229"
        ],
        [
         "15330",
         "2783",
         "82232",
         "2",
         "0.6777741448506335"
        ],
        [
         "21091",
         "2783",
         "106187",
         "3",
         "0.6544559441726153"
        ],
        [
         "30383",
         "2783",
         "113535",
         "4",
         "0.6059381204236364"
        ],
        [
         "15318",
         "2783",
         "289618",
         "5",
         "0.446140347336018"
        ],
        [
         "1986",
         "2783",
         "136184",
         "6",
         "0.43450004845764256"
        ],
        [
         "31916",
         "2783",
         "403969",
         "7",
         "0.2706348111547461"
        ],
        [
         "1414",
         "2783",
         "45275",
         "8",
         "0.19483128215393122"
        ],
        [
         "8644",
         "2783",
         "243697",
         "9",
         "0.08647111552000503"
        ],
        [
         "38327",
         "2857",
         "461686",
         "1",
         "0.7896793291444411"
        ],
        [
         "38456",
         "2857",
         "461686",
         "2",
         "0.7896793291444411"
        ],
        [
         "38458",
         "2857",
         "461686",
         "3",
         "0.7896793291444411"
        ],
        [
         "38553",
         "2857",
         "461686",
         "4",
         "0.7896793291444411"
        ],
        [
         "65741",
         "3034",
         "461091",
         "1",
         "0.33247527948926897"
        ],
        [
         "30",
         "3215",
         "220165",
         "1",
         "0.17137964704732078"
        ]
       ],
       "shape": {
        "columns": 4,
        "rows": 70624
       }
      },
      "text/html": [
       "<div>\n",
       "<style scoped>\n",
       "    .dataframe tbody tr th:only-of-type {\n",
       "        vertical-align: middle;\n",
       "    }\n",
       "\n",
       "    .dataframe tbody tr th {\n",
       "        vertical-align: top;\n",
       "    }\n",
       "\n",
       "    .dataframe thead th {\n",
       "        text-align: right;\n",
       "    }\n",
       "</style>\n",
       "<table border=\"1\" class=\"dataframe\">\n",
       "  <thead>\n",
       "    <tr style=\"text-align: right;\">\n",
       "      <th></th>\n",
       "      <th>user_id</th>\n",
       "      <th>item_id</th>\n",
       "      <th>rank</th>\n",
       "      <th>cb_score</th>\n",
       "    </tr>\n",
       "  </thead>\n",
       "  <tbody>\n",
       "    <tr>\n",
       "      <th>66239</th>\n",
       "      <td>164</td>\n",
       "      <td>106828</td>\n",
       "      <td>1</td>\n",
       "      <td>0.438685</td>\n",
       "    </tr>\n",
       "    <tr>\n",
       "      <th>11550</th>\n",
       "      <td>278</td>\n",
       "      <td>458028</td>\n",
       "      <td>1</td>\n",
       "      <td>0.438659</td>\n",
       "    </tr>\n",
       "    <tr>\n",
       "      <th>11683</th>\n",
       "      <td>278</td>\n",
       "      <td>405060</td>\n",
       "      <td>2</td>\n",
       "      <td>0.208742</td>\n",
       "    </tr>\n",
       "    <tr>\n",
       "      <th>7397</th>\n",
       "      <td>535</td>\n",
       "      <td>252427</td>\n",
       "      <td>1</td>\n",
       "      <td>0.525295</td>\n",
       "    </tr>\n",
       "    <tr>\n",
       "      <th>65937</th>\n",
       "      <td>1014</td>\n",
       "      <td>117431</td>\n",
       "      <td>1</td>\n",
       "      <td>0.890815</td>\n",
       "    </tr>\n",
       "    <tr>\n",
       "      <th>...</th>\n",
       "      <td>...</td>\n",
       "      <td>...</td>\n",
       "      <td>...</td>\n",
       "      <td>...</td>\n",
       "    </tr>\n",
       "    <tr>\n",
       "      <th>19029</th>\n",
       "      <td>1407374</td>\n",
       "      <td>241201</td>\n",
       "      <td>13</td>\n",
       "      <td>0.161679</td>\n",
       "    </tr>\n",
       "    <tr>\n",
       "      <th>14785</th>\n",
       "      <td>1407374</td>\n",
       "      <td>454301</td>\n",
       "      <td>14</td>\n",
       "      <td>0.115551</td>\n",
       "    </tr>\n",
       "    <tr>\n",
       "      <th>10390</th>\n",
       "      <td>1407374</td>\n",
       "      <td>399031</td>\n",
       "      <td>15</td>\n",
       "      <td>0.077262</td>\n",
       "    </tr>\n",
       "    <tr>\n",
       "      <th>1107</th>\n",
       "      <td>1407374</td>\n",
       "      <td>459841</td>\n",
       "      <td>16</td>\n",
       "      <td>0.064782</td>\n",
       "    </tr>\n",
       "    <tr>\n",
       "      <th>979</th>\n",
       "      <td>1407374</td>\n",
       "      <td>153219</td>\n",
       "      <td>17</td>\n",
       "      <td>0.044100</td>\n",
       "    </tr>\n",
       "  </tbody>\n",
       "</table>\n",
       "<p>70624 rows × 4 columns</p>\n",
       "</div>"
      ],
      "text/plain": [
       "       user_id  item_id  rank  cb_score\n",
       "66239      164   106828     1  0.438685\n",
       "11550      278   458028     1  0.438659\n",
       "11683      278   405060     2  0.208742\n",
       "7397       535   252427     1  0.525295\n",
       "65937     1014   117431     1  0.890815\n",
       "...        ...      ...   ...       ...\n",
       "19029  1407374   241201    13  0.161679\n",
       "14785  1407374   454301    14  0.115551\n",
       "10390  1407374   399031    15  0.077262\n",
       "1107   1407374   459841    16  0.064782\n",
       "979    1407374   153219    17  0.044100\n",
       "\n",
       "[70624 rows x 4 columns]"
      ]
     },
     "execution_count": 76,
     "metadata": {},
     "output_type": "execute_result"
    }
   ],
   "source": [
    "final_recommendations"
   ]
  },
  {
   "cell_type": "code",
   "execution_count": 77,
   "id": "4b84bf79",
   "metadata": {},
   "outputs": [],
   "source": [
    "def process_events_recs_for_binary_metrics(events_train, events_test, recs, top_k=None):\n",
    "\n",
    "    \"\"\"\n",
    "    Размечает пары <user_id, item_id> для общего множества пользователей признаками\n",
    "    - gt (ground truth)\n",
    "    - pr (prediction)\n",
    "    top_k: расчёт ведётся только для top k-рекомендаций\n",
    "    \"\"\"\n",
    "    \n",
    "    events_test[\"gt\"] = True\n",
    "    common_users = set(events_test[\"user_id\"]) & set(recs[\"user_id\"])\n",
    "\n",
    "    print(f\"Common users: {len(common_users)}\")\n",
    "    \n",
    "    events_for_common_users = events_test[events_test[\"user_id\"].isin(common_users)].copy()\n",
    "    recs_for_common_users = recs[recs[\"user_id\"].isin(common_users)].copy()\n",
    "\n",
    "    recs_for_common_users = recs_for_common_users.sort_values([\"user_id\", \"score\"], ascending=[True, False])\n",
    "\n",
    "    events_for_common_users = events_for_common_users[events_for_common_users[\"item_id\"].isin(\n",
    "        events_train[\"item_id\"].unique()\n",
    "    )\n",
    "    ]\n",
    "\n",
    "    if top_k is not None:\n",
    "        recs_for_common_users = recs_for_common_users.groupby(\"user_id\").head(top_k)\n",
    "    \n",
    "    events_recs_common = events_for_common_users[[\"user_id\", \"item_id\", \"gt\"]].merge(\n",
    "        recs_for_common_users[[\"user_id\", \"item_id\", \"score\"]], \n",
    "        on=[\"user_id\", \"item_id\"], \n",
    "        how=\"outer\",\n",
    "    )    \n",
    "\n",
    "    events_recs_common[\"gt\"] = events_recs_common[\"gt\"].fillna(False)\n",
    "    events_recs_common[\"pr\"] = ~events_recs_common[\"score\"].isnull()\n",
    "    \n",
    "    events_recs_common[\"tp\"] = events_recs_common[\"gt\"] & events_recs_common[\"pr\"]\n",
    "    events_recs_common[\"fp\"] = ~events_recs_common[\"gt\"] & events_recs_common[\"pr\"]\n",
    "    events_recs_common[\"fn\"] = events_recs_common[\"gt\"] & ~events_recs_common[\"pr\"]\n",
    "\n",
    "    return events_recs_common"
   ]
  },
  {
   "cell_type": "code",
   "execution_count": 78,
   "id": "cbc6b716",
   "metadata": {},
   "outputs": [],
   "source": [
    "def compute_cls_metrics(events_recs_for_binary_metric):\n",
    "    \n",
    "    \"\"\"Расчет precision и recall\"\"\"\n",
    "    \n",
    "    groupper = events_recs_for_binary_metric.groupby(\"user_id\")\n",
    "\n",
    "    # Computing precision\n",
    "    precision = groupper[\"tp\"].sum()/(groupper[\"tp\"].sum()+groupper[\"fp\"].sum())\n",
    "    precision = precision.fillna(0).mean()\n",
    "    \n",
    "    # Computing recall\n",
    "    recall = groupper[\"tp\"].sum()/(groupper[\"tp\"].sum()+groupper[\"fn\"].sum())\n",
    "    recall = recall.fillna(0).mean()\n",
    "\n",
    "    return precision, recall"
   ]
  },
  {
   "cell_type": "code",
   "execution_count": 79,
   "id": "931b57a5",
   "metadata": {},
   "outputs": [
    {
     "data": {
      "application/vnd.microsoft.datawrangler.viewer.v0+json": {
       "columns": [
        {
         "name": "index",
         "rawType": "int64",
         "type": "integer"
        },
        {
         "name": "user_id",
         "rawType": "int64",
         "type": "integer"
        },
        {
         "name": "item_id",
         "rawType": "int64",
         "type": "integer"
        },
        {
         "name": "rank",
         "rawType": "int64",
         "type": "integer"
        },
        {
         "name": "cb_score",
         "rawType": "float64",
         "type": "float"
        }
       ],
       "ref": "d783de97-d32c-4aea-a22c-84376cd579e8",
       "rows": [
        [
         "66239",
         "164",
         "106828",
         "1",
         "0.4386852603937913"
        ],
        [
         "11550",
         "278",
         "458028",
         "1",
         "0.43865897518380176"
        ],
        [
         "11683",
         "278",
         "405060",
         "2",
         "0.20874234281077086"
        ],
        [
         "7397",
         "535",
         "252427",
         "1",
         "0.5252946134751008"
        ],
        [
         "65937",
         "1014",
         "117431",
         "1",
         "0.8908150253386284"
        ],
        [
         "64898",
         "1014",
         "53078",
         "2",
         "0.8682017714627447"
        ],
        [
         "66116",
         "1014",
         "4613",
         "3",
         "0.8606643812417372"
        ],
        [
         "65034",
         "1014",
         "178797",
         "4",
         "0.8562501994829204"
        ],
        [
         "65913",
         "1014",
         "342614",
         "5",
         "0.851845853042597"
        ],
        [
         "64680",
         "1014",
         "170298",
         "6",
         "0.8515400475078707"
        ],
        [
         "64674",
         "1014",
         "228372",
         "7",
         "0.788429822921548"
        ],
        [
         "63046",
         "1014",
         "311775",
         "8",
         "0.7769922682968474"
        ],
        [
         "66112",
         "1014",
         "184655",
         "9",
         "0.7734522867853157"
        ],
        [
         "64164",
         "1014",
         "168712",
         "10",
         "0.7629241271992644"
        ],
        [
         "65366",
         "1014",
         "38311",
         "11",
         "0.7613257152001921"
        ],
        [
         "62103",
         "1014",
         "389732",
         "12",
         "0.7596458679038816"
        ],
        [
         "63050",
         "1014",
         "389732",
         "13",
         "0.7596458679038816"
        ],
        [
         "63425",
         "1014",
         "178797",
         "14",
         "0.7509977183284179"
        ],
        [
         "64851",
         "1014",
         "333219",
         "15",
         "0.7498854526249654"
        ],
        [
         "63747",
         "1014",
         "316010",
         "16",
         "0.7321248840759298"
        ],
        [
         "62408",
         "1014",
         "456297",
         "17",
         "0.7277256584265088"
        ],
        [
         "66156",
         "1014",
         "103412",
         "18",
         "0.6819594154190364"
        ],
        [
         "62407",
         "1014",
         "142105",
         "19",
         "0.6391616500397143"
        ],
        [
         "64598",
         "1014",
         "299804",
         "20",
         "0.5211759654908106"
        ],
        [
         "64934",
         "1014",
         "396134",
         "21",
         "0.4872211418335112"
        ],
        [
         "46921",
         "1612",
         "177570",
         "1",
         "0.3210588059933174"
        ],
        [
         "50871",
         "1808",
         "141635",
         "1",
         "0.5098353266583672"
        ],
        [
         "69677",
         "2169",
         "268815",
         "1",
         "0.30123927043962884"
        ],
        [
         "16435",
         "2454",
         "275269",
         "1",
         "0.6247701788090192"
        ],
        [
         "66063",
         "2454",
         "362974",
         "2",
         "0.5231636115470535"
        ],
        [
         "57812",
         "2519",
         "248032",
         "1",
         "0.7273481928993697"
        ],
        [
         "57575",
         "2519",
         "413125",
         "2",
         "0.7185296951729118"
        ],
        [
         "57804",
         "2519",
         "413125",
         "3",
         "0.7185296951729118"
        ],
        [
         "57805",
         "2519",
         "413125",
         "4",
         "0.7185296951729118"
        ],
        [
         "19912",
         "2725",
         "376400",
         "1",
         "0.2567274564707975"
        ],
        [
         "16381",
         "2783",
         "115967",
         "1",
         "0.7749647174780229"
        ],
        [
         "15330",
         "2783",
         "82232",
         "2",
         "0.6777741448506335"
        ],
        [
         "21091",
         "2783",
         "106187",
         "3",
         "0.6544559441726153"
        ],
        [
         "30383",
         "2783",
         "113535",
         "4",
         "0.6059381204236364"
        ],
        [
         "15318",
         "2783",
         "289618",
         "5",
         "0.446140347336018"
        ],
        [
         "1986",
         "2783",
         "136184",
         "6",
         "0.43450004845764256"
        ],
        [
         "31916",
         "2783",
         "403969",
         "7",
         "0.2706348111547461"
        ],
        [
         "1414",
         "2783",
         "45275",
         "8",
         "0.19483128215393122"
        ],
        [
         "8644",
         "2783",
         "243697",
         "9",
         "0.08647111552000503"
        ],
        [
         "38327",
         "2857",
         "461686",
         "1",
         "0.7896793291444411"
        ],
        [
         "38456",
         "2857",
         "461686",
         "2",
         "0.7896793291444411"
        ],
        [
         "38458",
         "2857",
         "461686",
         "3",
         "0.7896793291444411"
        ],
        [
         "38553",
         "2857",
         "461686",
         "4",
         "0.7896793291444411"
        ],
        [
         "65741",
         "3034",
         "461091",
         "1",
         "0.33247527948926897"
        ],
        [
         "30",
         "3215",
         "220165",
         "1",
         "0.17137964704732078"
        ]
       ],
       "shape": {
        "columns": 4,
        "rows": 70624
       }
      },
      "text/html": [
       "<div>\n",
       "<style scoped>\n",
       "    .dataframe tbody tr th:only-of-type {\n",
       "        vertical-align: middle;\n",
       "    }\n",
       "\n",
       "    .dataframe tbody tr th {\n",
       "        vertical-align: top;\n",
       "    }\n",
       "\n",
       "    .dataframe thead th {\n",
       "        text-align: right;\n",
       "    }\n",
       "</style>\n",
       "<table border=\"1\" class=\"dataframe\">\n",
       "  <thead>\n",
       "    <tr style=\"text-align: right;\">\n",
       "      <th></th>\n",
       "      <th>user_id</th>\n",
       "      <th>item_id</th>\n",
       "      <th>rank</th>\n",
       "      <th>cb_score</th>\n",
       "    </tr>\n",
       "  </thead>\n",
       "  <tbody>\n",
       "    <tr>\n",
       "      <th>66239</th>\n",
       "      <td>164</td>\n",
       "      <td>106828</td>\n",
       "      <td>1</td>\n",
       "      <td>0.438685</td>\n",
       "    </tr>\n",
       "    <tr>\n",
       "      <th>11550</th>\n",
       "      <td>278</td>\n",
       "      <td>458028</td>\n",
       "      <td>1</td>\n",
       "      <td>0.438659</td>\n",
       "    </tr>\n",
       "    <tr>\n",
       "      <th>11683</th>\n",
       "      <td>278</td>\n",
       "      <td>405060</td>\n",
       "      <td>2</td>\n",
       "      <td>0.208742</td>\n",
       "    </tr>\n",
       "    <tr>\n",
       "      <th>7397</th>\n",
       "      <td>535</td>\n",
       "      <td>252427</td>\n",
       "      <td>1</td>\n",
       "      <td>0.525295</td>\n",
       "    </tr>\n",
       "    <tr>\n",
       "      <th>65937</th>\n",
       "      <td>1014</td>\n",
       "      <td>117431</td>\n",
       "      <td>1</td>\n",
       "      <td>0.890815</td>\n",
       "    </tr>\n",
       "    <tr>\n",
       "      <th>...</th>\n",
       "      <td>...</td>\n",
       "      <td>...</td>\n",
       "      <td>...</td>\n",
       "      <td>...</td>\n",
       "    </tr>\n",
       "    <tr>\n",
       "      <th>19029</th>\n",
       "      <td>1407374</td>\n",
       "      <td>241201</td>\n",
       "      <td>13</td>\n",
       "      <td>0.161679</td>\n",
       "    </tr>\n",
       "    <tr>\n",
       "      <th>14785</th>\n",
       "      <td>1407374</td>\n",
       "      <td>454301</td>\n",
       "      <td>14</td>\n",
       "      <td>0.115551</td>\n",
       "    </tr>\n",
       "    <tr>\n",
       "      <th>10390</th>\n",
       "      <td>1407374</td>\n",
       "      <td>399031</td>\n",
       "      <td>15</td>\n",
       "      <td>0.077262</td>\n",
       "    </tr>\n",
       "    <tr>\n",
       "      <th>1107</th>\n",
       "      <td>1407374</td>\n",
       "      <td>459841</td>\n",
       "      <td>16</td>\n",
       "      <td>0.064782</td>\n",
       "    </tr>\n",
       "    <tr>\n",
       "      <th>979</th>\n",
       "      <td>1407374</td>\n",
       "      <td>153219</td>\n",
       "      <td>17</td>\n",
       "      <td>0.044100</td>\n",
       "    </tr>\n",
       "  </tbody>\n",
       "</table>\n",
       "<p>70624 rows × 4 columns</p>\n",
       "</div>"
      ],
      "text/plain": [
       "       user_id  item_id  rank  cb_score\n",
       "66239      164   106828     1  0.438685\n",
       "11550      278   458028     1  0.438659\n",
       "11683      278   405060     2  0.208742\n",
       "7397       535   252427     1  0.525295\n",
       "65937     1014   117431     1  0.890815\n",
       "...        ...      ...   ...       ...\n",
       "19029  1407374   241201    13  0.161679\n",
       "14785  1407374   454301    14  0.115551\n",
       "10390  1407374   399031    15  0.077262\n",
       "1107   1407374   459841    16  0.064782\n",
       "979    1407374   153219    17  0.044100\n",
       "\n",
       "[70624 rows x 4 columns]"
      ]
     },
     "execution_count": 79,
     "metadata": {},
     "output_type": "execute_result"
    }
   ],
   "source": [
    "final_recommendations"
   ]
  },
  {
   "cell_type": "code",
   "execution_count": 80,
   "id": "4ecfc9ca",
   "metadata": {},
   "outputs": [
    {
     "name": "stdout",
     "output_type": "stream",
     "text": [
      "Common users: 5605\n",
      "Итоговые рекомендации, precision: 0.2182, recall: 0.2448\n"
     ]
    }
   ],
   "source": [
    "# Метрики для итоговой рекомендаций\n",
    "cb_events_recs_for_binary_metrics_5 = process_events_recs_for_binary_metrics(\n",
    "    events_inference,\n",
    "    events_test_2,\n",
    "    final_recommendations.rename(columns={\"cb_score\": \"score\"}), \n",
    "    top_k=5)\n",
    "\n",
    "cb_precision_5, cb_recall_5 = compute_cls_metrics(cb_events_recs_for_binary_metrics_5)\n",
    "\n",
    "print(f\"Итоговые рекомендации, precision: {cb_precision_5:.4f}, recall: {cb_recall_5:.4f}\")"
   ]
  },
  {
   "cell_type": "code",
   "execution_count": 81,
   "id": "5cb6728d",
   "metadata": {},
   "outputs": [
    {
     "name": "stdout",
     "output_type": "stream",
     "text": [
      "Итоговые рекомендации, покрытие: 4.49\n"
     ]
    }
   ],
   "source": [
    "# Расчёт покрытия по объектам\n",
    "cov_final = final_recommendations['item_id'].nunique() / final_recommendations['user_id'].nunique()\n",
    "\n",
    "print(f\"Итоговые рекомендации, покрытие: {cov_final:.2f}\") "
   ]
  },
  {
   "cell_type": "code",
   "execution_count": 82,
   "id": "ad740aa2",
   "metadata": {},
   "outputs": [],
   "source": [
    "# Разметим каждую рекомендацию признаком viewed\n",
    "events_train[\"viewed\"] = True\n",
    "\n",
    "final_recommendations = final_recommendations.merge(events_train, on=[\"user_id\", \"item_id\"], how=\"left\")\n",
    "final_recommendations[\"viewed\"] = final_recommendations[\"viewed\"].fillna(False).astype(\"bool\")"
   ]
  },
  {
   "cell_type": "code",
   "execution_count": 83,
   "id": "86ec7ebc",
   "metadata": {},
   "outputs": [],
   "source": [
    "# Проставим ранги\n",
    "final_recommendations = final_recommendations.sort_values(by=[\"user_id\", \"cb_score\"], ascending=[True, False])\n",
    "final_recommendations[\"rank\"] = final_recommendations.groupby(\"user_id\").cumcount() + 1"
   ]
  },
  {
   "cell_type": "code",
   "execution_count": 84,
   "id": "0c2bf791",
   "metadata": {},
   "outputs": [
    {
     "name": "stdout",
     "output_type": "stream",
     "text": [
      "Novelty@5: 0.647\n"
     ]
    }
   ],
   "source": [
    "# Посчитаем novelty по пользователям\n",
    "novelty_5_final = (1-final_recommendations.query(\"rank <= 5\").groupby(\"user_id\")[\"viewed\"].mean()).mean()\n",
    "\n",
    "print(f\"Novelty@5: {novelty_5_final:.3f}\")"
   ]
  },
  {
   "cell_type": "code",
   "execution_count": 85,
   "id": "3f4e7086",
   "metadata": {},
   "outputs": [
    {
     "data": {
      "application/vnd.microsoft.datawrangler.viewer.v0+json": {
       "columns": [
        {
         "name": "index",
         "rawType": "object",
         "type": "string"
        },
        {
         "name": "top_popular",
         "rawType": "float64",
         "type": "float"
        },
        {
         "name": "final_recs",
         "rawType": "float64",
         "type": "float"
        }
       ],
       "ref": "0f4be74f-ccba-493a-9876-e44c29d8b767",
       "rows": [
        [
         "recall_top_popular",
         "0.02097806773232005",
         "0.0"
        ],
        [
         "coverage",
         "0.8258268700343463",
         "4.493844781445138"
        ],
        [
         "precision_5",
         "0.0",
         "0.21821011762680842"
        ],
        [
         "recall_5",
         "0.0",
         "0.24484142167725617"
        ],
        [
         "novelty_5",
         "0.0",
         "0.6471097234611953"
        ]
       ],
       "shape": {
        "columns": 2,
        "rows": 5
       }
      },
      "text/html": [
       "<div>\n",
       "<style scoped>\n",
       "    .dataframe tbody tr th:only-of-type {\n",
       "        vertical-align: middle;\n",
       "    }\n",
       "\n",
       "    .dataframe tbody tr th {\n",
       "        vertical-align: top;\n",
       "    }\n",
       "\n",
       "    .dataframe thead th {\n",
       "        text-align: right;\n",
       "    }\n",
       "</style>\n",
       "<table border=\"1\" class=\"dataframe\">\n",
       "  <thead>\n",
       "    <tr style=\"text-align: right;\">\n",
       "      <th></th>\n",
       "      <th>top_popular</th>\n",
       "      <th>final_recs</th>\n",
       "    </tr>\n",
       "  </thead>\n",
       "  <tbody>\n",
       "    <tr>\n",
       "      <th>recall_top_popular</th>\n",
       "      <td>0.020978</td>\n",
       "      <td>0.000000</td>\n",
       "    </tr>\n",
       "    <tr>\n",
       "      <th>coverage</th>\n",
       "      <td>0.825827</td>\n",
       "      <td>4.493845</td>\n",
       "    </tr>\n",
       "    <tr>\n",
       "      <th>precision_5</th>\n",
       "      <td>0.000000</td>\n",
       "      <td>0.218210</td>\n",
       "    </tr>\n",
       "    <tr>\n",
       "      <th>recall_5</th>\n",
       "      <td>0.000000</td>\n",
       "      <td>0.244841</td>\n",
       "    </tr>\n",
       "    <tr>\n",
       "      <th>novelty_5</th>\n",
       "      <td>0.000000</td>\n",
       "      <td>0.647110</td>\n",
       "    </tr>\n",
       "  </tbody>\n",
       "</table>\n",
       "</div>"
      ],
      "text/plain": [
       "                    top_popular  final_recs\n",
       "recall_top_popular     0.020978    0.000000\n",
       "coverage               0.825827    4.493845\n",
       "precision_5            0.000000    0.218210\n",
       "recall_5               0.000000    0.244841\n",
       "novelty_5              0.000000    0.647110"
      ]
     },
     "execution_count": 85,
     "metadata": {},
     "output_type": "execute_result"
    }
   ],
   "source": [
    "# Создадим сводную таблицу по метрикам\n",
    "popular_metrics = pd.Series([recall_top_popular, coverage_top], index=[\"recall_top_popular\", \"coverage\"], name=\"top_popular\")\n",
    "\n",
    "\n",
    "final_recs_metrics = pd.Series([cb_precision_5, cb_recall_5,cov_final,novelty_5_final], \n",
    "                               index=[\"precision_5\", \"recall_5\", \"coverage\", \"novelty_5\"],\n",
    "                               name=\"final_recs\")\n",
    "\n",
    "metrics_df = pd.concat([popular_metrics, final_recs_metrics], axis=1).fillna(0)\n",
    "\n",
    "metrics_df"
   ]
  },
  {
   "cell_type": "code",
   "execution_count": 86,
   "id": "d9393a7f",
   "metadata": {},
   "outputs": [],
   "source": [
    "json_file_1 = metrics_df['top_popular'].to_json(orient='index')\n",
    "with open('../data/top_popular_metrics.json', 'w') as f:\n",
    "    f.write(json_file_1)\n",
    "\n",
    "# Сохранение второго JSON файла (второй столбец как ключи)\n",
    "json_file_2 = metrics_df['final_recs'].to_json(orient='index')\n",
    "with open('../data/final_recs_metrics.json', 'w') as f:\n",
    "    f.write(json_file_2)"
   ]
  },
  {
   "cell_type": "code",
   "execution_count": 87,
   "id": "de2b526d",
   "metadata": {},
   "outputs": [],
   "source": [
    "# Теперь создадим словари для логирования\n",
    "dict1 = metrics_df['top_popular'].to_dict()\n",
    "\n",
    "# Создание второго словаря (метрики и их значения)\n",
    "dict2 = metrics_df['final_recs'].to_dict()"
   ]
  },
  {
   "cell_type": "code",
   "execution_count": null,
   "id": "a96c3fe9",
   "metadata": {},
   "outputs": [
    {
     "name": "stdout",
     "output_type": "stream",
     "text": [
      "🏃 View run rec_sys_final_metrics at: http://127.0.0.1:5000/#/experiments/38/runs/058789a8124047a29b0668118fa32549\n",
      "🧪 View experiment at: http://127.0.0.1:5000/#/experiments/38\n"
     ]
    }
   ],
   "source": [
    "RUN_NAME = 'exp_sys_final_metrics'\n",
    "\n",
    "os.environ[\"MLFLOW_S3_ENDPOINT_URL\"] = \"https://storage.yandexcloud.net\" \n",
    "os.environ[\"AWS_ACCESS_KEY_ID\"] = os.getenv(\"AWS_ACCESS_KEY_ID\") \n",
    "os.environ[\"AWS_SECRET_ACCESS_KEY\"] = os.getenv(\"AWS_SECRET_ACCESS_KEY\")\n",
    "\n",
    "\n",
    "mlflow.set_tracking_uri(f\"http://{TRACKING_SERVER_HOST}:{TRACKING_SERVER_PORT}\")\n",
    "mlflow.set_registry_uri(f\"http://{TRACKING_SERVER_HOST}:{TRACKING_SERVER_PORT}\")\n",
    "\n",
    "experiment_id = mlflow.get_experiment_by_name(EXPERIMENT_NAME).experiment_id\n",
    "\n",
    "with mlflow.start_run(run_name=RUN_NAME, experiment_id=experiment_id) as run:\n",
    "    run_id = run.info.run_id\n",
    "    \n",
    "    mlflow.log_metrics(dict1)"
   ]
  },
  {
   "cell_type": "code",
   "execution_count": 89,
   "id": "3d205b68",
   "metadata": {},
   "outputs": [
    {
     "name": "stdout",
     "output_type": "stream",
     "text": [
      "🏃 View run rec_sys_final_metrics at: http://127.0.0.1:5000/#/experiments/38/runs/6e4637b6d45641dc965ed1a266d16ad0\n",
      "🧪 View experiment at: http://127.0.0.1:5000/#/experiments/38\n"
     ]
    }
   ],
   "source": [
    "os.environ[\"MLFLOW_S3_ENDPOINT_URL\"] = \"https://storage.yandexcloud.net\" \n",
    "os.environ[\"AWS_ACCESS_KEY_ID\"] = os.getenv(\"AWS_ACCESS_KEY_ID\") \n",
    "os.environ[\"AWS_SECRET_ACCESS_KEY\"] = os.getenv(\"AWS_SECRET_ACCESS_KEY\")\n",
    "\n",
    "\n",
    "mlflow.set_tracking_uri(f\"http://{TRACKING_SERVER_HOST}:{TRACKING_SERVER_PORT}\")\n",
    "mlflow.set_registry_uri(f\"http://{TRACKING_SERVER_HOST}:{TRACKING_SERVER_PORT}\")\n",
    "\n",
    "experiment_id = mlflow.get_experiment_by_name(EXPERIMENT_NAME).experiment_id\n",
    "\n",
    "with mlflow.start_run(run_name=RUN_NAME, experiment_id=experiment_id) as run:\n",
    "    run_id = run.info.run_id\n",
    "    \n",
    "    mlflow.log_metrics(dict2)"
   ]
  },
  {
   "cell_type": "markdown",
   "id": "2ef0fbe2",
   "metadata": {},
   "source": [
    "# Итог"
   ]
  },
  {
   "cell_type": "markdown",
   "id": "51a8787f",
   "metadata": {},
   "source": [
    "В связиз с тем, что большенство пользователей данного магазина (~97%) предпочитают просто просматривать товар, рекомендации оставляют желать лучшего. Вполне вероятно, зная свойства товара и имея более длительный промежуток наблюдейний вышло бы получше."
   ]
  }
 ],
 "metadata": {
  "kernelspec": {
   "display_name": ".venv_final",
   "language": "python",
   "name": "python3"
  },
  "language_info": {
   "codemirror_mode": {
    "name": "ipython",
    "version": 3
   },
   "file_extension": ".py",
   "mimetype": "text/x-python",
   "name": "python",
   "nbconvert_exporter": "python",
   "pygments_lexer": "ipython3",
   "version": "3.10.12"
  }
 },
 "nbformat": 4,
 "nbformat_minor": 5
}
